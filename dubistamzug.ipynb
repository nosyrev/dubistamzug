{
 "cells": [
  {
   "cell_type": "markdown",
   "metadata": {},
   "source": [
    "# Simple statistics for the \"Du bist Am Zug\" project\n",
    "\n",
    "## Project links\n",
    "https://dubistamzug.net/en/\n",
    "\n",
    "https://www.instagram.com/dubistamzugberlin/\n",
    "\n",
    "https://www.facebook.com/dubistamzugberlin\n",
    "\n",
    "## Getting .kml map\n",
    "Current notebook is tailored to work with the 2024 version of it, some things could be different for the future versions\n",
    "Just change the `mid` value to a proper one, the code will downlaod the map and store it to `map.kml` file localy"
   ]
  },
  {
   "cell_type": "code",
   "execution_count": 1,
   "metadata": {},
   "outputs": [
    {
     "name": "stdout",
     "output_type": "stream",
     "text": [
      "Google Maps view: https://www.google.com/maps/d/u/0/viewer?mid=1mdOJB9W1bScXAMSuZki-BhHPtFyZVFE&ll=52.530777634910116%2C13.465575394245812&z=10\n"
     ]
    }
   ],
   "source": [
    "import re\n",
    "import logging\n",
    "import urllib.request\n",
    "import xml.etree.ElementTree as ET\n",
    "\n",
    "from collections import Counter\n",
    "\n",
    "\n",
    "STYLE_YELLOW = \"#icon-1899-FFD600\"\n",
    "STYLE_RED = \"#icon-1899-A52714\"\n",
    "\n",
    "\n",
    "# Google map id and url that is used to download it\n",
    "\n",
    "#mid = \"1jXqAMP9-YYyS75qjMMC6zf45UsSkVIs\"  # Week 1&2\n",
    "#mid = \"1wRl3iviQosW3gyxi463XCI5FKFUd5h4\"  # Week 3\n",
    "mid = \"1mdOJB9W1bScXAMSuZki-BhHPtFyZVFE\"  # Week 4\n",
    "download_url = f\"https://www.google.com/maps/d/kml?mid={mid}&forcekml=1\"\n",
    "view_url = f\"https://www.google.com/maps/d/u/0/viewer?mid={mid}&ll=52.530777634910116%2C13.465575394245812&z=10\"\n",
    "print(\"Google Maps view:\", view_url)\n",
    "\n",
    "# download the map into that file\n",
    "file_name = \"map.kml\"\n",
    "urllib.request.urlretrieve(download_url, 'map.kml')\n",
    "\n",
    "tree = ET.parse(file_name)\n",
    "root = tree.getroot()"
   ]
  },
  {
   "cell_type": "code",
   "execution_count": 2,
   "metadata": {},
   "outputs": [],
   "source": [
    "def norm_text(text: str) -> str:\n",
    "    \"\"\"Remove all html tags and fix some common typos in the source file\"\"\"\n",
    "    norm = re.sub(r\"<.*?>\", \" \", text).strip()\n",
    "    norm = re.sub(\"8Foto\", \"(Foto\", norm)\n",
    "    norm = re.sub(r\"\\s+\", \" \", norm)\n",
    "\n",
    "    # if there is no normal description and it is just coordinates just return empty line\n",
    "    if not re.sub(r\"[\\d\\.\\s]\", \"\", norm):\n",
    "        return \"\"\n",
    "\n",
    "    return norm.strip()\n",
    "\n",
    "def get_spotter(text: str) -> str:\n",
    "    \"\"\"\n",
    "    Try to extract spotter from the description\n",
    "    \n",
    "    Examples:\n",
    "        >>> get_spotter(\"Author Name (Foto SpotterName)   52.45022583 13.50795078\")\n",
    "        'SpotterName'\n",
    "        >>> get_spotter(\"Anonym (Bild SpotterName SpotterSurname)  52.55495479 13.39554122\")\n",
    "        'SpotterName SpotterSurname'\n",
    "        >>> get_spoter(\"Author Name, 1, 4 (Foto Spotter1) (Foto2 Spotter2)  52.49294, 13.3868\")\n",
    "        'Spotter1'\n",
    "    \"\"\"\n",
    "    if \"(\" in text and \")\" in text:\n",
    "        tt = text\n",
    "        tt = re.sub(r\"[Ff]oto?:?\", \"\", tt)\n",
    "        tt = re.sub(r\"[Bb]ild:?\", \"\", tt)\n",
    "        return tt.split(\"(\")[1].split(\")\")[0].strip()\n",
    "    elif \"(\" in text:\n",
    "        return text.split(\"(\")[1].split(\" \")[1].strip()\n",
    "    logging.warning(f\"No rules to parse correctly: {text}\")\n",
    "    return \"\"\n",
    "\n",
    "def parse_description(text: str) -> str:\n",
    "    \"\"\"Parse description into a dictionary with various helper fields\"\"\"\n",
    "    norm = norm_text(text)\n",
    "    res = {\"raw\": text, \"norm\": norm}\n",
    "    if not norm:\n",
    "        return res\n",
    "    res[\"poster_by\"] = norm.split(\"(\")[0].strip()  # any text before first '('\n",
    "    res[\"spotted_by\"] = get_spotter(norm)\n",
    "    return res\n",
    "\n",
    "def xml_to_dict(element):\n",
    "    \"\"\"\n",
    "    Recursively converts an XML element and its children to a dictionary.\n",
    "    Helper function for debug purposes\n",
    "    \"\"\"\n",
    "    node_dict = {element.tag: {} if element.attrib else None}\n",
    "    \n",
    "    # If the element has attributes, add them to the dictionary\n",
    "    if element.attrib:\n",
    "        node_dict[element.tag].update(('@' + k, v) for k, v in element.attrib.items())\n",
    "    \n",
    "    # If the element has children, recursively call xml_to_dict on each child\n",
    "    children = list(element)\n",
    "    if children:\n",
    "        dd = {}\n",
    "        for dc in map(xml_to_dict, children):\n",
    "            for k, v in dc.items():\n",
    "                if k in dd:\n",
    "                    if not isinstance(dd[k], list):\n",
    "                        dd[k] = [dd[k]]\n",
    "                    dd[k].append(v)\n",
    "                else:\n",
    "                    dd[k] = v\n",
    "        node_dict[element.tag] = dd\n",
    "    \n",
    "    # If the element has text content, add it to the dictionary\n",
    "    if element.text:\n",
    "        text = element.text.strip()\n",
    "        if children or element.attrib:\n",
    "            if text:\n",
    "                node_dict[element.tag]['#text'] = text\n",
    "        else:\n",
    "            node_dict[element.tag] = text\n",
    "    \n",
    "    return node_dict\n",
    "\n",
    "def placemark_to_dict(placemark: ET) -> dict:\n",
    "    \"\"\"Convert <Placemark> structure into the dictionary\"\"\"\n",
    "    name = placemark.find('kml:name', namespace).text.strip()\n",
    "    styleUrl = placemark.find('kml:styleUrl', namespace).text\n",
    "    description = placemark.find('kml:description', namespace)\n",
    "    parsed_description = parse_description(description.text)\n",
    "    coordinates = placemark.find('kml:Point/kml:coordinates', namespace).text.strip()\n",
    "    coordinates = coordinates.split(\",\")[:2]\n",
    "    return {\n",
    "        \"name\": name,\n",
    "        \"style\": styleUrl,\n",
    "        \"description\": parsed_description,\n",
    "        \"coordinates\": coordinates,\n",
    "    }\n",
    "\n",
    "\n",
    "# parse everything\n",
    "\n",
    "namespace = {'kml': 'http://www.opengis.net/kml/2.2'}\n",
    "\n",
    "document_name = root.find(\"kml:Document/kml:name\", namespace).text\n",
    "document_name = re.sub(r'[\\\\/:*?\"<>|]', '_', document_name)\n",
    "\n",
    "unmarked = 0\n",
    "locations = []\n",
    "for placemark in root.findall('.//kml:Placemark', namespace):\n",
    "    try:\n",
    "        locations.append(placemark_to_dict(placemark))\n",
    "    except AttributeError as ex:\n",
    "        logging.exception(f\"{xml_to_dict(placemark)}\")\n"
   ]
  },
  {
   "cell_type": "code",
   "execution_count": 3,
   "metadata": {},
   "outputs": [],
   "source": [
    "# Ensure that all parsed yellow locations have non-empty poster_by and spotted_by fields\n",
    "for l in locations:\n",
    "    if l[\"style\"] != STYLE_YELLOW:\n",
    "        continue\n",
    "    d = l[\"description\"]\n",
    "    if not d[\"norm\"]:\n",
    "        continue\n",
    "    if not d[\"spotted_by\"] or not d[\"poster_by\"]:\n",
    "        logging.warning(f\"No poster/spotter for {d['norm']}: {d}\")"
   ]
  },
  {
   "cell_type": "code",
   "execution_count": 4,
   "metadata": {},
   "outputs": [
    {
     "name": "stdout",
     "output_type": "stream",
     "text": [
      "- Schwedenstr.- vor Osloer Str. staw. DESCR: \n"
     ]
    }
   ],
   "source": [
    "# typos search, show all descriptions that don't have Foto or Bild in the description\n",
    "for l in locations:\n",
    "    if l[\"style\"] != STYLE_YELLOW:\n",
    "        continue\n",
    "    d = l[\"description\"]\n",
    "    if not (\"(Foto \" in d[\"norm\"] or \"(Bild \" in d[\"norm\"]):\n",
    "        print(\"-\", l[\"name\"], \"DESCR:\", re.sub(r\"\\s+\", \"  \", d[\"norm\"]))"
   ]
  },
  {
   "cell_type": "code",
   "execution_count": 5,
   "metadata": {},
   "outputs": [
    {
     "name": "stdout",
     "output_type": "stream",
     "text": [
      "Locations with the same coord if any\n",
      "- 52.524755 13.419534 : 3\n",
      "- 52.59558105 13.33253002 : 3\n",
      "- 52.608166 13.429106 : 2\n",
      "- 52.4982 13.6145 : 2\n",
      "- 52.432094 13.534826 : 2\n",
      "- 52.52478694 13.41948458 : 2\n"
     ]
    }
   ],
   "source": [
    "# print(\"Locations with the same name if any\")\n",
    "# name_counter = Counter(l[\"name\"] for l in locations)\n",
    "# for name, count in name_counter.most_common():\n",
    "#     if count > 1:\n",
    "#         print(\"-\", name, \":\", count)\n",
    "# print()\n",
    "\n",
    "print(\"Locations with the same coord if any\")\n",
    "coord_counter = Counter(\" \".join(l[\"coordinates\"][::-1]) for l in locations)\n",
    "for coord, count in coord_counter.most_common():\n",
    "    if count > 1:\n",
    "        print(\"-\", coord, \":\", count)"
   ]
  },
  {
   "cell_type": "code",
   "execution_count": 6,
   "metadata": {},
   "outputs": [
    {
     "name": "stdout",
     "output_type": "stream",
     "text": [
      "Dvayaitca\n",
      "   Am Bhf. Grunewald- vor Auerbacher Str. 2\n",
      "   Paska Dvayaitca (Foto Svenja) 52.4873694 13.26339587\n",
      "   https://www.google.com/maps?q=52.487369,13.263396\n",
      "Dvayaitca\n",
      "   Ruhlebener Str.- vor Tiefwerderweg 1-4\n",
      "   Paska Dvayaitca (Foto Svenja) 52.52865601 13.20736122\n",
      "   https://www.google.com/maps?q=52.52865601,13.20736122\n",
      "Holubeva\n",
      "   Uhlandstr.-ggü. 113 hinter Quickborner Str.\n",
      "   Sofiia Holubeva (Foto simonandthepencils) 52.59911955 13.37139474\n",
      "   https://www.google.com/maps?q=52.5991343,13.3714095\n",
      "Kaltauskaite\n",
      "   Ringstr.- hinter Kadettenweg\n",
      "   Liuba Kaltauskaite (Foto Svenja) 52.43798828 13.29550648\n",
      "   https://www.google.com/maps?q=52.437988,13.295506\n",
      "Kaltauskaite\n",
      "   Falkenseer Chaussee-192 hinter Am Bogen\n",
      "   Liuba Kaltauskaite (Foto Svenja) 52.55211258 13.15986443\n",
      "   https://www.google.com/maps?q=52.55211258,13.15986443\n",
      "Kaltauskaite\n",
      "   Rudower Chaussee-25 Mittelinsel vor Magnusstr.\n",
      "   Liuba Kaltauskaite (Foto Anke) 52.42983738 13.53046413\n",
      "   https://www.google.com/maps?q=52.42983738,13.53046413\n",
      "Nosyrev\n",
      "   Landsberger Allee- hinter Raoul-Wallenberg-Str. 74\n",
      "   Grigory Nosyrev (Foto stricktdagegen) 52.54486465 13.56416512\n",
      "   https://www.google.com/maps?q=52.544852,13.5639397\n",
      "Nosyrev\n",
      "   Rudower Str.-35 Mittelinsel hinter Möwenweg stew.\n",
      "   Grigory Nosyrev (Foto angiie_pamela_photography) 52.440416 13.458812\n",
      "   https://www.google.com/maps?q=52.440416,13.458812\n",
      "Pasichnyk\n",
      "   Berliner Allee-210 hinter Bernkasteler Str. staw.\n",
      "   Anastasiia Pasichnyk (Foto Stefanie J.) 52.55745316 13.46674633\n",
      "   https://www.google.com/maps?q=52.557453,13.466746\n",
      "Pasichnyk\n",
      "   Lindenstr.-116 hinter Brandesstr.\n",
      "   Anastasiia Pasichnyk (Foto sabineberlin.de) 52.49893951 13.39549828\n",
      "   https://www.google.com/maps?q=52.498928,13.395455\n",
      "Saliukhina\n",
      "   Landsberger Allee-68 A-D Mittelinsel vor Petersburger Str. staw. Halle B\n",
      "   Valentina Saliukhina (Foto Tim) 52.52611179 13.44693543\n",
      "   https://www.google.com/maps?q=52.5261275,13.44699\n",
      "Saliukhina\n",
      "   Neuendorfer Str.-98 vor Schönwalder Str. 1\n",
      "   Valentyna Saliukhina (Foto Svenja) 52.54317916 13.20616094\n",
      "   https://www.google.com/maps?q=52.543181,13.206148\n",
      "Saliukhina\n",
      "   Richard-Tauber-Damm-25 vor ggü. Culemeyerstr.\n",
      "   Valentyna Saliukhina (Foto angiie_pamela_photography) 52.41717529 13.3929348\n",
      "   https://www.google.com/maps?q=52.417175,13.392935\n",
      "Saliukhina\n",
      "   Berliner Str.-102-106 vor Schloßstr. (Hst.-Insel) Halle B\n",
      "   Valentina Saliukhina (Foto riekeu) 52.59057479 13.28295167\n",
      "   https://www.google.com/maps?q=52.59057479,13.28295167\n"
     ]
    }
   ],
   "source": [
    "# If you are wanting to check if there are some posters you are intereted in\n",
    "# just replace names here. Could be any string. I have that only because\n",
    "# searching for a name or substring in google maps don't really work well for now (imho)\n",
    "POSTERS_TO_CHECK = [\n",
    "    \"Nosyrev\",\n",
    "    \"Kaltauskaite\",\n",
    "    \"Dvayaitca\",\n",
    "    \"Holubeva\",\n",
    "    \"Pasichnyk\",\n",
    "    \"Saliukhina\",\n",
    "]\n",
    "found_posters = []\n",
    "for l in locations:\n",
    "    d = l[\"description\"]\n",
    "    if not d[\"norm\"]:\n",
    "        continue\n",
    "    for p in POSTERS_TO_CHECK:\n",
    "        if p.lower() in d[\"poster_by\"].lower():\n",
    "            found_posters.append((p, l))\n",
    "\n",
    "for n, l in sorted(found_posters, key=lambda x: x[0]):\n",
    "        d = l[\"description\"]\n",
    "        print(n)\n",
    "        print(\"  \", l[\"name\"])\n",
    "        print(\"  \", d[\"norm\"])\n",
    "        lang, lat = l[\"coordinates\"]\n",
    "        print(f\"   https://www.google.com/maps?q={lat},{lang}\")"
   ]
  },
  {
   "cell_type": "markdown",
   "metadata": {},
   "source": [
    "# Statistics"
   ]
  },
  {
   "cell_type": "code",
   "execution_count": 7,
   "metadata": {},
   "outputs": [
    {
     "name": "stdout",
     "output_type": "stream",
     "text": [
      "Different dots on the map count\n",
      "Red: 130\n",
      "Yellow: 1308\n"
     ]
    }
   ],
   "source": [
    "print(\"Different dots on the map count\")\n",
    "print(\"Red:\", sum(1 for l in locations if l[\"style\"] == STYLE_RED))\n",
    "print(\"Yellow:\", sum(1 for l in locations if l[\"style\"] == STYLE_YELLOW))"
   ]
  },
  {
   "cell_type": "code",
   "execution_count": 8,
   "metadata": {},
   "outputs": [
    {
     "name": "stdout",
     "output_type": "stream",
     "text": [
      "Different styles of dots, sanity check:\n",
      "Counter({'#icon-1899-FFD600': 1308, '#icon-1899-A52714': 130, '#icon-1899-BDBDBD': 17, '#icon-1899-FFEA00': 1})\n"
     ]
    }
   ],
   "source": [
    "print(\"Different styles of dots, sanity check:\")\n",
    "print(Counter(l[\"style\"] for l in locations))"
   ]
  },
  {
   "cell_type": "code",
   "execution_count": 9,
   "metadata": {},
   "outputs": [
    {
     "name": "stdout",
     "output_type": "stream",
     "text": [
      "Yellow locations without any description:\n",
      "Schwedenstr.- vor Osloer Str. staw.\n"
     ]
    }
   ],
   "source": [
    "# Some sanity check\n",
    "print(\"Yellow locations without any description:\")\n",
    "for l in locations:\n",
    "    d = l[\"description\"]\n",
    "    if l[\"style\"] != STYLE_YELLOW:\n",
    "        continue\n",
    "    if not d[\"norm\"]:\n",
    "        print(l[\"name\"])"
   ]
  },
  {
   "cell_type": "code",
   "execution_count": 10,
   "metadata": {},
   "outputs": [
    {
     "name": "stdout",
     "output_type": "stream",
     "text": [
      "Red locations with non-empty description:\n"
     ]
    }
   ],
   "source": [
    "# Some sanity check\n",
    "print(\"Red locations with non-empty description:\")\n",
    "for l in locations:\n",
    "    d = l[\"description\"]\n",
    "    if l[\"style\"] != STYLE_RED:\n",
    "        continue\n",
    "    if d[\"norm\"]:\n",
    "        print(l[\"name\"], \"DESCR\", d[\"norm\"])"
   ]
  },
  {
   "cell_type": "code",
   "execution_count": 11,
   "metadata": {},
   "outputs": [
    {
     "name": "stdout",
     "output_type": "stream",
     "text": [
      "Most common posters\n",
      "112: Anonym\n",
      "5: Yaroslav Rashevskyi\n",
      "4: Konrad Rempe\n",
      "4: Danyila Nich\n",
      "4: Lina, 8\n",
      "4: Juliane Duda\n",
      "3: Maja Neuhaus\n",
      "3: Benjamin Bosch\n",
      "3: Julia Piwowarski\n",
      "3: Nina-Maria Büttner\n",
      "\n",
      "711 unique posters out of 1308 in total\n",
      "\n",
      "<how_many_times_poster_was_spotted>: <posters_that_were_spotted_that_many_times>\n",
      "112: 1\n",
      "5: 1\n",
      "4: 4\n",
      "3: 114\n",
      "2: 242\n",
      "1: 349\n"
     ]
    }
   ],
   "source": [
    "print(\"Most common posters\")\n",
    "posters_by_stat = Counter(l[\"description\"].get(\"poster_by\", \"NOT_FOUND\") for l in locations if l[\"style\"] == STYLE_YELLOW)\n",
    "for poster_by, count in posters_by_stat.most_common(10):\n",
    "    print(f\"{count}: {poster_by}\")\n",
    "\n",
    "print()\n",
    "print(len(set(posters_by_stat)), \"unique posters out of\", sum(1 for l in locations if l[\"style\"] == STYLE_YELLOW), \"in total\")\n",
    "\n",
    "print()\n",
    "print(\"<how_many_times_poster_was_spotted>: <posters_that_were_spotted_that_many_times>\")\n",
    "for freq, posters_like_that in sorted(Counter(posters_by_stat.values()).items(), reverse=True):\n",
    "    print(f\"{freq}: {posters_like_that}\")\n"
   ]
  },
  {
   "cell_type": "code",
   "execution_count": 12,
   "metadata": {},
   "outputs": [
    {
     "name": "stdout",
     "output_type": "stream",
     "text": [
      "Top 10 spotters:\n",
      "313: Svenja\n",
      "158: Tim\n",
      "146: Anke\n",
      "136: sabineberlin.de\n",
      "98: angiie_pamela_photography\n",
      "85: Peter\n",
      "71: stricktdagegen\n",
      "44: Stefanie J.\n",
      "32: grigorynosyrev\n",
      "18: simonandthepencils\n",
      "\n",
      "78 unique spotters spotted 1308 posters\n",
      "\n",
      "Spotter statistics:\n",
      "<number_of_spotted_posters>: <spotters_that_spotted_that_many_posters>\n",
      "313: 1\n",
      "158: 1\n",
      "146: 1\n",
      "136: 1\n",
      "98: 1\n",
      "85: 1\n",
      "71: 1\n",
      "44: 1\n",
      "32: 1\n",
      "18: 1\n",
      "15: 1\n",
      "12: 1\n",
      "11: 2\n",
      "10: 1\n",
      "9: 2\n",
      "8: 2\n",
      "7: 1\n",
      "6: 1\n",
      "5: 3\n",
      "4: 4\n",
      "3: 6\n",
      "2: 8\n",
      "1: 36\n"
     ]
    }
   ],
   "source": [
    "n = 10\n",
    "print(f\"Top {n} spotters:\")\n",
    "spotted_by_stat = Counter(l[\"description\"].get(\"spotted_by\", \"NOT_FOUND\") for l in locations if l[\"style\"] == STYLE_YELLOW)\n",
    "for spotted_by, count in spotted_by_stat.most_common(n):\n",
    "    print(f\"{count}: {spotted_by}\")\n",
    "\n",
    "print()\n",
    "print(len(set(spotted_by_stat)), \"unique spotters spotted\", sum(spotted_by_stat.values()), \"posters\")\n",
    "\n",
    "print()\n",
    "print(\"Spotter statistics:\")\n",
    "print(\"<number_of_spotted_posters>: <spotters_that_spotted_that_many_posters>\")\n",
    "for freq, posters_like_that in sorted(Counter(spotted_by_stat.values()).items(), reverse=True):\n",
    "    print(f\"{freq}: {posters_like_that}\")"
   ]
  },
  {
   "cell_type": "code",
   "execution_count": 13,
   "metadata": {},
   "outputs": [],
   "source": [
    "from pathlib import Path\n",
    "\n",
    "import pandas as pd\n",
    "\n",
    "df = pd.DataFrame()\n",
    "df[\"name\"] = [l[\"name\"] for l in locations]\n",
    "df[\"description\"] = [l[\"description\"][\"norm\"] for l in locations]\n",
    "df[\"coordinates\"] = [\" \".join(l[\"coordinates\"]) for l in locations]\n",
    "df[\"style\"] = [l[\"style\"] for l in locations]\n",
    "df = df.sort_values(\"name\")\n",
    "df.head()\n",
    "\n",
    "# saving file to .csv format\n",
    "df.to_csv(Path(document_name).with_suffix(\".csv\"), index=False)\n",
    "\n"
   ]
  }
 ],
 "metadata": {
  "kernelspec": {
   "display_name": ".venv",
   "language": "python",
   "name": "python3"
  },
  "language_info": {
   "codemirror_mode": {
    "name": "ipython",
    "version": 3
   },
   "file_extension": ".py",
   "mimetype": "text/x-python",
   "name": "python",
   "nbconvert_exporter": "python",
   "pygments_lexer": "ipython3",
   "version": "3.12.4"
  }
 },
 "nbformat": 4,
 "nbformat_minor": 2
}
