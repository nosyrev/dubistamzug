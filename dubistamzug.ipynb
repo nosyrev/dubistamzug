{
 "cells": [
  {
   "cell_type": "markdown",
   "metadata": {},
   "source": [
    "# Simple statistics for the \"Du bist Am Zug\" project\n",
    "\n",
    "## Project links\n",
    "https://dubistamzug.net/en/\n",
    "\n",
    "https://www.instagram.com/dubistamzugberlin/\n",
    "\n",
    "https://www.facebook.com/dubistamzugberlin\n",
    "\n",
    "## Getting .kml map\n",
    "Current notebook is tailored to work with the 2024 version of it, some things could be different for the future versions\n",
    "Just change the `mid` value to a proper one, the code will downlaod the map and store it to `map.kml` file localy"
   ]
  },
  {
   "cell_type": "code",
   "execution_count": 1,
   "metadata": {},
   "outputs": [
    {
     "name": "stdout",
     "output_type": "stream",
     "text": [
      "Google Maps view: https://www.google.com/maps/d/u/0/viewer?mid=1mdOJB9W1bScXAMSuZki-BhHPtFyZVFE&ll=52.530777634910116%2C13.465575394245812&z=10\n"
     ]
    }
   ],
   "source": [
    "import re\n",
    "import logging\n",
    "import urllib.request\n",
    "import xml.etree.ElementTree as ET\n",
    "\n",
    "from collections import Counter\n",
    "\n",
    "\n",
    "STYLE_YELLOW = \"#icon-1899-FFD600\"\n",
    "STYLE_RED = \"#icon-1899-A52714\"\n",
    "\n",
    "\n",
    "# Google map id and url that is used to download it\n",
    "\n",
    "#mid = \"1jXqAMP9-YYyS75qjMMC6zf45UsSkVIs\"  # Week 1&2\n",
    "#mid = \"1wRl3iviQosW3gyxi463XCI5FKFUd5h4\"  # Week 3\n",
    "mid = \"1mdOJB9W1bScXAMSuZki-BhHPtFyZVFE\"  # Week 4\n",
    "download_url = f\"https://www.google.com/maps/d/kml?mid={mid}&forcekml=1\"\n",
    "view_url = f\"https://www.google.com/maps/d/u/0/viewer?mid={mid}&ll=52.530777634910116%2C13.465575394245812&z=10\"\n",
    "print(\"Google Maps view:\", view_url)\n",
    "\n",
    "# download the map into that file\n",
    "file_name = \"map.kml\"\n",
    "urllib.request.urlretrieve(download_url, 'map.kml')\n",
    "\n",
    "tree = ET.parse(file_name)\n",
    "root = tree.getroot()"
   ]
  },
  {
   "cell_type": "code",
   "execution_count": 2,
   "metadata": {},
   "outputs": [
    {
     "name": "stderr",
     "output_type": "stream",
     "text": [
      "WARNING:root:No rules to parse correctly: Plakat hängt fest 52.48374484 13.43625993\n",
      "WARNING:root:No rules to parse correctly: Jens L. Heinrich Foto grigorynosyrev) 52.56232906 13.37314537\n",
      "ERROR:root:{'{http://www.opengis.net/kml/2.2}Placemark': {'{http://www.opengis.net/kml/2.2}name': '52.50944968\\t13.4514068', '{http://www.opengis.net/kml/2.2}styleUrl': '#icon-1899-A52714-nodesc', '{http://www.opengis.net/kml/2.2}Point': {'{http://www.opengis.net/kml/2.2}coordinates': '13.4514068,52.50944968,0'}}}\n",
      "Traceback (most recent call last):\n",
      "  File \"/var/folders/sz/ytnvld_d379ddpw15vl0xn000000gn/T/ipykernel_45539/2994371934.py\", line 108, in <module>\n",
      "    locations.append(placemark_to_dict(placemark))\n",
      "                     ^^^^^^^^^^^^^^^^^^^^^^^^^^^^\n",
      "  File \"/var/folders/sz/ytnvld_d379ddpw15vl0xn000000gn/T/ipykernel_45539/2994371934.py\", line 86, in placemark_to_dict\n",
      "    parsed_description = parse_description(description.text)\n",
      "                                           ^^^^^^^^^^^^^^^^\n",
      "AttributeError: 'NoneType' object has no attribute 'text'\n",
      "WARNING:root:No rules to parse correctly: Melanie Giovanna Landro Foto ewa_from_berlin) 52.53780841 13.47907654\n",
      "ERROR:root:{'{http://www.opengis.net/kml/2.2}Placemark': {'{http://www.opengis.net/kml/2.2}name': 'Punkt 1176', '{http://www.opengis.net/kml/2.2}styleUrl': '#icon-1899-0288D1-nodesc', '{http://www.opengis.net/kml/2.2}Point': {'{http://www.opengis.net/kml/2.2}coordinates': '13.411345,52.5429536,0'}}}\n",
      "Traceback (most recent call last):\n",
      "  File \"/var/folders/sz/ytnvld_d379ddpw15vl0xn000000gn/T/ipykernel_45539/2994371934.py\", line 108, in <module>\n",
      "    locations.append(placemark_to_dict(placemark))\n",
      "                     ^^^^^^^^^^^^^^^^^^^^^^^^^^^^\n",
      "  File \"/var/folders/sz/ytnvld_d379ddpw15vl0xn000000gn/T/ipykernel_45539/2994371934.py\", line 86, in placemark_to_dict\n",
      "    parsed_description = parse_description(description.text)\n",
      "                                           ^^^^^^^^^^^^^^^^\n",
      "AttributeError: 'NoneType' object has no attribute 'text'\n",
      "ERROR:root:{'{http://www.opengis.net/kml/2.2}Placemark': {'{http://www.opengis.net/kml/2.2}name': 'Route von Alt-Karow-8-9 vor Str. 72 staw. nach Alt-Karow-8-9 vor Str. 72 staw.', '{http://www.opengis.net/kml/2.2}styleUrl': '#line-1267FF-5000-nodesc', '{http://www.opengis.net/kml/2.2}LineString': {'{http://www.opengis.net/kml/2.2}tessellate': '1', '{http://www.opengis.net/kml/2.2}coordinates': '13.48252,52.61074,0'}}}\n",
      "Traceback (most recent call last):\n",
      "  File \"/var/folders/sz/ytnvld_d379ddpw15vl0xn000000gn/T/ipykernel_45539/2994371934.py\", line 108, in <module>\n",
      "    locations.append(placemark_to_dict(placemark))\n",
      "                     ^^^^^^^^^^^^^^^^^^^^^^^^^^^^\n",
      "  File \"/var/folders/sz/ytnvld_d379ddpw15vl0xn000000gn/T/ipykernel_45539/2994371934.py\", line 86, in placemark_to_dict\n",
      "    parsed_description = parse_description(description.text)\n",
      "                                           ^^^^^^^^^^^^^^^^\n",
      "AttributeError: 'NoneType' object has no attribute 'text'\n",
      "ERROR:root:{'{http://www.opengis.net/kml/2.2}Placemark': {'{http://www.opengis.net/kml/2.2}name': 'Alt-Karow-8-9 vor Str. 72 staw.', '{http://www.opengis.net/kml/2.2}styleUrl': '#icon-1899-DB4436-nodesc', '{http://www.opengis.net/kml/2.2}Point': {'{http://www.opengis.net/kml/2.2}coordinates': '13.482519,52.6107367,0'}}}\n",
      "Traceback (most recent call last):\n",
      "  File \"/var/folders/sz/ytnvld_d379ddpw15vl0xn000000gn/T/ipykernel_45539/2994371934.py\", line 108, in <module>\n",
      "    locations.append(placemark_to_dict(placemark))\n",
      "                     ^^^^^^^^^^^^^^^^^^^^^^^^^^^^\n",
      "  File \"/var/folders/sz/ytnvld_d379ddpw15vl0xn000000gn/T/ipykernel_45539/2994371934.py\", line 86, in placemark_to_dict\n",
      "    parsed_description = parse_description(description.text)\n",
      "                                           ^^^^^^^^^^^^^^^^\n",
      "AttributeError: 'NoneType' object has no attribute 'text'\n",
      "ERROR:root:{'{http://www.opengis.net/kml/2.2}Placemark': {'{http://www.opengis.net/kml/2.2}name': 'Alt-Karow-8-9 vor Str. 72 staw.', '{http://www.opengis.net/kml/2.2}styleUrl': '#icon-1899-DB4436-nodesc', '{http://www.opengis.net/kml/2.2}Point': {'{http://www.opengis.net/kml/2.2}coordinates': '13.482519,52.6107367,0'}}}\n",
      "Traceback (most recent call last):\n",
      "  File \"/var/folders/sz/ytnvld_d379ddpw15vl0xn000000gn/T/ipykernel_45539/2994371934.py\", line 108, in <module>\n",
      "    locations.append(placemark_to_dict(placemark))\n",
      "                     ^^^^^^^^^^^^^^^^^^^^^^^^^^^^\n",
      "  File \"/var/folders/sz/ytnvld_d379ddpw15vl0xn000000gn/T/ipykernel_45539/2994371934.py\", line 86, in placemark_to_dict\n",
      "    parsed_description = parse_description(description.text)\n",
      "                                           ^^^^^^^^^^^^^^^^\n",
      "AttributeError: 'NoneType' object has no attribute 'text'\n"
     ]
    }
   ],
   "source": [
    "def norm_text(text: str) -> str:\n",
    "    \"\"\"Remove all html tags and fix some common typos in the source file\"\"\"\n",
    "    norm = re.sub(r\"<.*?>\", \" \", text).strip()\n",
    "    norm = re.sub(\"8Foto\", \"(Foto\", norm)\n",
    "    norm = re.sub(r\"\\s+\", \" \", norm)\n",
    "\n",
    "    # if there is no normal description and it is just coordinates just return empty line\n",
    "    if not re.sub(r\"[\\d\\.\\s]\", \"\", norm):\n",
    "        return \"\"\n",
    "\n",
    "    return norm.strip()\n",
    "\n",
    "def get_spotter(text: str) -> str:\n",
    "    \"\"\"\n",
    "    Try to extract spotter from the description\n",
    "    \n",
    "    Examples:\n",
    "        >>> get_spotter(\"Author Name (Foto SpotterName)   52.45022583 13.50795078\")\n",
    "        'SpotterName'\n",
    "        >>> get_spotter(\"Anonym (Bild SpotterName SpotterSurname)  52.55495479 13.39554122\")\n",
    "        'SpotterName SpotterSurname'\n",
    "        >>> get_spoter(\"Author Name, 1, 4 (Foto Spotter1) (Foto2 Spotter2)  52.49294, 13.3868\")\n",
    "        'Spotter1'\n",
    "    \"\"\"\n",
    "    if \"(\" in text and \")\" in text:\n",
    "        tt = text\n",
    "        tt = re.sub(r\"[Ff]oto?:?\", \"\", tt)\n",
    "        tt = re.sub(r\"[Bb]ild:?\", \"\", tt)\n",
    "        return tt.split(\"(\")[1].split(\")\")[0].strip()\n",
    "    elif \"(\" in text:\n",
    "        return text.split(\"(\")[1].split(\" \")[1].strip()\n",
    "    logging.warning(f\"No rules to parse correctly: {text}\")\n",
    "    return \"\"\n",
    "\n",
    "def parse_description(text: str) -> str:\n",
    "    \"\"\"Parse description into a dictionary with various helper fields\"\"\"\n",
    "    norm = norm_text(text)\n",
    "    res = {\"raw\": text, \"norm\": norm}\n",
    "    if not norm:\n",
    "        return res\n",
    "    res[\"poster_by\"] = norm.split(\"(\")[0].strip()  # any text before first '('\n",
    "    res[\"spotted_by\"] = get_spotter(norm)\n",
    "    return res\n",
    "\n",
    "def xml_to_dict(element):\n",
    "    \"\"\"\n",
    "    Recursively converts an XML element and its children to a dictionary.\n",
    "    Helper function for debug purposes\n",
    "    \"\"\"\n",
    "    node_dict = {element.tag: {} if element.attrib else None}\n",
    "    \n",
    "    # If the element has attributes, add them to the dictionary\n",
    "    if element.attrib:\n",
    "        node_dict[element.tag].update(('@' + k, v) for k, v in element.attrib.items())\n",
    "    \n",
    "    # If the element has children, recursively call xml_to_dict on each child\n",
    "    children = list(element)\n",
    "    if children:\n",
    "        dd = {}\n",
    "        for dc in map(xml_to_dict, children):\n",
    "            for k, v in dc.items():\n",
    "                if k in dd:\n",
    "                    if not isinstance(dd[k], list):\n",
    "                        dd[k] = [dd[k]]\n",
    "                    dd[k].append(v)\n",
    "                else:\n",
    "                    dd[k] = v\n",
    "        node_dict[element.tag] = dd\n",
    "    \n",
    "    # If the element has text content, add it to the dictionary\n",
    "    if element.text:\n",
    "        text = element.text.strip()\n",
    "        if children or element.attrib:\n",
    "            if text:\n",
    "                node_dict[element.tag]['#text'] = text\n",
    "        else:\n",
    "            node_dict[element.tag] = text\n",
    "    \n",
    "    return node_dict\n",
    "\n",
    "def placemark_to_dict(placemark: ET) -> dict:\n",
    "    \"\"\"Convert <Placemark> structure into the dictionary\"\"\"\n",
    "    name = placemark.find('kml:name', namespace).text.strip()\n",
    "    styleUrl = placemark.find('kml:styleUrl', namespace).text\n",
    "    description = placemark.find('kml:description', namespace)\n",
    "    parsed_description = parse_description(description.text)\n",
    "    coordinates = placemark.find('kml:Point/kml:coordinates', namespace).text.strip()\n",
    "    coordinates = coordinates.split(\",\")[:2]\n",
    "    return {\n",
    "        \"name\": name,\n",
    "        \"style\": styleUrl,\n",
    "        \"description\": parsed_description,\n",
    "        \"coordinates\": coordinates,\n",
    "    }\n",
    "\n",
    "\n",
    "# parse everything\n",
    "\n",
    "namespace = {'kml': 'http://www.opengis.net/kml/2.2'}\n",
    "\n",
    "document_name = root.find(\"kml:Document/kml:name\", namespace).text\n",
    "document_name = re.sub(r'[\\\\/:*?\"<>|]', '_', document_name)\n",
    "\n",
    "unmarked = 0\n",
    "locations = []\n",
    "for placemark in root.findall('.//kml:Placemark', namespace):\n",
    "    try:\n",
    "        locations.append(placemark_to_dict(placemark))\n",
    "    except AttributeError as ex:\n",
    "        logging.exception(f\"{xml_to_dict(placemark)}\")\n"
   ]
  },
  {
   "cell_type": "code",
   "execution_count": 3,
   "metadata": {},
   "outputs": [
    {
     "name": "stderr",
     "output_type": "stream",
     "text": [
      "WARNING:root:No poster/spotter for Reginhardstr.-59 vor Mickestr.: {'raw': '<img src=\"https://mymaps.usercontent.google.com/hostedimage/m/*/3APLA8iC-8lLd8C8WR3d-bVoakaAofURYuMwuegq6cH-gWGdfib6OzsruY4IrwOySWWaoRvH72KL9COddnUQSNHYVXIeXdMQSIN5sVAthwPbzWGe_3U5JqOSZzRgL7omx_0vhLzQeMTEDgD8btDB1sG8c0tPKc7yVUXk07Hq9Pvm-PwejSbWpSv2PvBt_97A_3S7GeccVTz14HGO8I5VwOAVVWH0limlsJFhSZWWcVEdIUIEk_d1ceR1rIfAuVgk?fife=s16383\" height=\"200\" width=\"auto\" /><br><br>Jens L. Heinrich Foto grigorynosyrev)\\xa0 \\xa052.56232906 13.37314537', 'norm': 'Jens L. Heinrich Foto grigorynosyrev) 52.56232906 13.37314537', 'poster_by': 'Jens L. Heinrich Foto grigorynosyrev) 52.56232906 13.37314537', 'spotted_by': ''}\n",
      "WARNING:root:No poster/spotter for Konrad-Wolf-Str.-68-69 vor Sandinostr. Halle A: {'raw': '<img src=\"https://mymaps.usercontent.google.com/hostedimage/m/*/3APLA8iAHCmJI4aO_porMWe1rXxgcXRA2n9MMIJwedB0QBd35eHL47ATCPSl8A2_qQep3Z_rB-Ds4zIQfINYmGQC8bQW-43xNCxh-5-V4ZFO_oje3Dny3s-zy5e-LvBdrUKErkbkVIeDXHN0RsTn7OFoCfmHJl3_aq5sQ4YLBs69AgXlZUXCg-WeD5rCU9pKJpqiW3ZZ0K2FK6OgfQxo9Nb2Up6M_oEW18JsswCBfXu19X8BjQXe0mDLwaW9vQ5w?fife=s16383\" height=\"200\" width=\"auto\" /><br><br>Melanie Giovanna Landro Foto ewa_from_berlin)\\xa0 \\xa052.53780841 13.47907654', 'norm': 'Melanie Giovanna Landro Foto ewa_from_berlin) 52.53780841 13.47907654', 'poster_by': 'Melanie Giovanna Landro Foto ewa_from_berlin) 52.53780841 13.47907654', 'spotted_by': ''}\n"
     ]
    }
   ],
   "source": [
    "# Ensure that all parsed yellow locations have non-empty poster_by and spotted_by fields\n",
    "for l in locations:\n",
    "    if l[\"style\"] != STYLE_YELLOW:\n",
    "        continue\n",
    "    d = l[\"description\"]\n",
    "    if not d[\"norm\"]:\n",
    "        continue\n",
    "    if not d[\"spotted_by\"] or not d[\"poster_by\"]:\n",
    "        logging.warning(f\"No poster/spotter for {l['name']}: {d}\")"
   ]
  },
  {
   "cell_type": "code",
   "execution_count": 4,
   "metadata": {},
   "outputs": [
    {
     "name": "stdout",
     "output_type": "stream",
     "text": [
      "- Bachstr.-ggü. 1 Mittelinsel vor Altonaer Str. DESCR: Anonym  (Fot  ftravelerty)  52.51864624  13.33963776\n",
      "- Alt-Karow-8-9 vor Str. 72 staw. DESCR: \n",
      "- Wartenberger Str.-ggü. 24 vor ggü. Gehrenseestr. Rtg. Rhinstr. DESCR: Ilia  Saraantsev  (Fotostricktdagegen)  52.55092966  13.50942449\n",
      "- Müggelheimer Damm-231 hinter Müggellandstr. Rtg. Köpenick DESCR: Angela  Grasser  (LEXI:VERSUM)  52.415272  13.65663683\n",
      "- Mehringdamm-21 vor Blücherstr. DESCR: Eva  Mauermann  (Fot  angiie_pamela_photography)  52.4957106  13.38982103\n",
      "- Waldemarstr.-104 vor Manteuffelstr. DESCR: Michael  Otto  (angiie_pamela_photography)  52.50121577  13.42768154\n",
      "- Marktstr.-2-3 vor Schreiberhauer Str. DESCR: Alexandra  Benkenstein  (FotoTim)  52.50303388  13.47421921\n",
      "- Allee der Kosmonauten-136 Mittelinsel hinter ggü. Poelchaustr. staw. DESCR: Emiliy  Püttner  (stricktdagegen)  52.53387612  13.55257366\n",
      "- Allee der Kosmonauten-27 Mittelinsel vor Rhinstr. stew. DESCR: Stefanie  Schairer  (stricktdagegen)  52.52593712  13.52055927\n",
      "- Britzer Damm-111 hinter Blaschkoallee DESCR: Ebrahim  Ehrari  (angiie_pamela_photography)  52.45304871  13.43853474\n",
      "- Rudower Str.-120 vor Johannistahler Chaussee staw. DESCR: Guda  Koster  (angiie_pamela_photography)  52.4344368  13.46849823\n",
      "- Dietzgenstr.-70 hinter Heinrich-Böll-Str. DESCR: Victor  Molinet  (simonandthepencils)  52.58768148  13.40185641\n",
      "- Neumannstr.- hinter Elsa-Brändström-Str. DESCR: Larissa  Niemeyer  (friends)  52.56048203  13.42234135\n",
      "- Eichborndamm- vor Taldorfer Weg DESCR: Julian  Bock  (for  Kseniia  Obraztsova)  52.58852768  13.32505417\n",
      "- Oraniendamm-28 vor Zehntwerderweg DESCR: Olandayo,  14  (FotoPeter)  52.61128113  13.3183691\n",
      "- Reginhardstr.-54 vor Neptunstr. DESCR: Rosa,  3  (Fotogrigorynosyrev)  52.56205577  13.373159\n",
      "- Reginhardstr.-59 vor Mickestr. DESCR: Jens  L.  Heinrich  Foto  grigorynosyrev)  52.56232906  13.37314537\n",
      "- Hohenstaufenstr.-60 hinter Eisenacher Str. DESCR: \n",
      "- Neuendorfer Str.-45 vor ggü. Neue Bergstr. DESCR: lIlona  Constance  Radke  (luisav.design)  52.55047983  13.21010367\n",
      "- Neuendorfer Str.-98 vor Schönwalder Str. 1 DESCR: Valentyna  Saliukhina  (Fot  Svenja)  52.54317916  13.20616094\n",
      "- Sakrower Landstr.-29 hinter Parnemannweg DESCR: Anonym  (  Foto  Svenja)  52.45239866  13.13948181\n",
      "- Torweg-43 vor Hackbuschstr. DESCR: \n",
      "- Gallwitzallee- hinter Thaliaweg DESCR: Anonym  (  Foto  Svenja)  52.434397  13.346062\n",
      "- Gottlieb-Dunkel-Str.-28 vor Ullsteinstr. DESCR: Emilia,  11  (angiie_pamela_photography)  52.45261425  13.40774153\n",
      "- Oberlandstr.-29 vor Berliner Union-Filme DESCR: Carola  Fehring  (sabineberlin.de)  52.46420783  13.41014979\n",
      "- Potsdamer Str.-58 hinter Schöneberger Ufer Rtg. Schöneberg DESCR: Kaitlyn  Parker  (sabineberlin.de)  52.50538735  13.36761636\n",
      "- Köpenicker Landstr.-148 vor Eichbuschallee staw. DESCR: Belicita  Castelbarco  (sabineberlin.de)  52.47427244  13.48323707\n",
      "- Schwedenstr.- vor Osloer Str. staw. DESCR: \n",
      "- Wiesbadener Str.-31 vor Rüdesheimer Str. Rtg. Grunewald DESCR: Stephane  Aspe  (Fot  moonzoom_art)  52.47213594  13.31507443\n",
      "- Konrad-Wolf-Str.-68-69 vor Sandinostr. Halle A DESCR: Melanie  Giovanna  Landro  Foto  ewa_from_berlin)  52.53780841  13.47907654\n",
      "- Granitzstr.- vor Retzbacher Weg DESCR: \n",
      "- Greifswalder Str.-88-89 Mittelinsel vor Thomas-Mann-Str. DESCR: Anonym  (Stefanie  J.)  52.54308346  13.44128022\n",
      "- Hildburghauser Str.-20 hinter ggü. Tirschenreuther Ring DESCR: Johanna  Knoesel  (angiie_pamela_photography)  52.41347301  13.35479245\n",
      "- Am Treptower Park-30 vor Herkomer Str. DESCR: \n"
     ]
    }
   ],
   "source": [
    "# typos search, show all descriptions that don't have Foto or Bild in the description\n",
    "for l in locations:\n",
    "    if l[\"style\"] != STYLE_YELLOW:\n",
    "        continue\n",
    "    d = l[\"description\"]\n",
    "    if not (\"(Foto \" in d[\"norm\"] or \"(Bild \" in d[\"norm\"]):\n",
    "        print(\"-\", l[\"name\"], \"DESCR:\", re.sub(r\"\\s+\", \"  \", d[\"norm\"]))"
   ]
  },
  {
   "cell_type": "code",
   "execution_count": 5,
   "metadata": {},
   "outputs": [
    {
     "name": "stdout",
     "output_type": "stream",
     "text": [
      "Locations with the same coord if any\n",
      "- 52.524755 13.419534 : 3\n",
      "- 52.49275208 13.37978268 : 3\n",
      "- 52.47776355 13.44843583 : 3\n",
      "- 52.53951645 13.42375374 : 3\n",
      "- 52.54602051 13.42736244 : 3\n",
      "- 52.59558105 13.33253002 : 3\n",
      "- 52.4903717 13.35981655 : 3\n",
      "- 52.55523682 13.19875431 : 3\n",
      "- 52.42760129 13.32636989 : 3\n",
      "- 52.44025794 13.38698984 : 3\n",
      "- 52.46853638 13.37458515 : 3\n",
      "- 52.5256 13.4203 : 2\n",
      "- 52.571215 13.410703 : 2\n",
      "- 52.608166 13.429106 : 2\n",
      "- 52.4982 13.6145 : 2\n",
      "- 52.568516 13.542488 : 2\n",
      "- 52.432094 13.534826 : 2\n",
      "- 52.50925633 13.38857755 : 2\n",
      "- 52.52478694 13.41948458 : 2\n"
     ]
    }
   ],
   "source": [
    "# print(\"Locations with the same name if any\")\n",
    "# name_counter = Counter(l[\"name\"] for l in locations)\n",
    "# for name, count in name_counter.most_common():\n",
    "#     if count > 1:\n",
    "#         print(\"-\", name, \":\", count)\n",
    "# print()\n",
    "\n",
    "print(\"Locations with the same coord if any\")\n",
    "coord_counter = Counter(\" \".join(l[\"coordinates\"][::-1]) for l in locations)\n",
    "for coord, count in coord_counter.most_common():\n",
    "    if count > 1:\n",
    "        print(\"-\", coord, \":\", count)"
   ]
  },
  {
   "cell_type": "code",
   "execution_count": 6,
   "metadata": {},
   "outputs": [
    {
     "name": "stdout",
     "output_type": "stream",
     "text": [
      "Dvayaitca\n",
      "   Am Bhf. Grunewald- vor Auerbacher Str. 2\n",
      "   Paska Dvayaitca (Foto Svenja) 52.4873694 13.26339587\n",
      "   https://www.google.com/maps?q=52.487369,13.263396\n",
      "Kaltauskaite\n",
      "   Ringstr.- hinter Kadettenweg\n",
      "   Liuba Kaltauskaite (Foto Svenja) 52.43798828 13.29550648\n",
      "   https://www.google.com/maps?q=52.437988,13.295506\n",
      "Nosyrev\n",
      "   Landsberger Allee- hinter Raoul-Wallenberg-Str. 74\n",
      "   Grigory Nosyrev (Foto stricktdagegen) 52.54486465 13.56416512\n",
      "   https://www.google.com/maps?q=52.544865,13.564165\n",
      "Nosyrev\n",
      "   Reginhardstr.-59 vor Mickestr.\n",
      "   Jens L. Heinrich Foto grigorynosyrev) 52.56232906 13.37314537\n",
      "   https://www.google.com/maps?q=52.562329,13.373145\n",
      "Pasichnyk\n",
      "   Berliner Allee-210 hinter Bernkasteler Str. staw.\n",
      "   Anastasiia Pasichnyk (Foto Stefanie J.) 52.55745316 13.46674633\n",
      "   https://www.google.com/maps?q=52.557453,13.466746\n",
      "Pasichnyk\n",
      "   Lindenstr.-116 hinter Brandesstr.\n",
      "   Anastasiia Pasichnyk (Foto sabineberlin.de) 52.49893951 13.39549828\n",
      "   https://www.google.com/maps?q=52.498928,13.395455\n",
      "Saliukhina\n",
      "   Landsberger Allee-68 A-D Mittelinsel vor Petersburger Str. staw. Halle B\n",
      "   Valentina Saliukhina (Foto Tim) 52.52611179 13.44693543\n",
      "   https://www.google.com/maps?q=52.526112,13.446935\n",
      "Saliukhina\n",
      "   Neuendorfer Str.-98 vor Schönwalder Str. 1\n",
      "   Valentyna Saliukhina (Fot Svenja) 52.54317916 13.20616094\n",
      "   https://www.google.com/maps?q=52.543181,13.206148\n",
      "Saliukhina\n",
      "   Richard-Tauber-Damm-25 vor ggü. Culemeyerstr.\n",
      "   Valentyna Saliukhina (Foto angiie_pamela_photography) 52.41717529 13.3929348\n",
      "   https://www.google.com/maps?q=52.417175,13.392935\n",
      "Saliukhina\n",
      "   Berliner Str.-102-106 vor Schloßstr. (Hst.-Insel) Halle B\n",
      "   Valentina Saliukhina (Foto riekeu) 52.59057479 13.28295167\n",
      "   https://www.google.com/maps?q=52.59057479,13.28295167\n"
     ]
    }
   ],
   "source": [
    "# If you are wanting to check if there are some posters you are intereted in\n",
    "# just replace names here. Could be any string. I have that only because\n",
    "# searching for a name or substring in google maps don't really work well for now (imho)\n",
    "POSTERS_TO_CHECK = [\n",
    "    \"Nosyrev\",\n",
    "    \"Kaltauskaite\",\n",
    "    \"Dvayaitca\",\n",
    "    \"Holubeva\",\n",
    "    \"Pasichnyk\",\n",
    "    \"Saliukhina\",\n",
    "]\n",
    "found_posters = []\n",
    "for l in locations:\n",
    "    d = l[\"description\"]\n",
    "    if not d[\"norm\"]:\n",
    "        continue\n",
    "    for p in POSTERS_TO_CHECK:\n",
    "        if p.lower() in d[\"poster_by\"].lower():\n",
    "            found_posters.append((p, l))\n",
    "\n",
    "for n, l in sorted(found_posters, key=lambda x: x[0]):\n",
    "        d = l[\"description\"]\n",
    "        print(n)\n",
    "        print(\"  \", l[\"name\"])\n",
    "        print(\"  \", d[\"norm\"])\n",
    "        lang, lat = l[\"coordinates\"]\n",
    "        print(f\"   https://www.google.com/maps?q={lat},{lang}\")"
   ]
  },
  {
   "cell_type": "markdown",
   "metadata": {},
   "source": [
    "# Statistics"
   ]
  },
  {
   "cell_type": "code",
   "execution_count": 7,
   "metadata": {},
   "outputs": [
    {
     "name": "stdout",
     "output_type": "stream",
     "text": [
      "Different dots on the map count\n",
      "Red: 550\n",
      "Yellow: 876\n"
     ]
    }
   ],
   "source": [
    "print(\"Different dots on the map count\")\n",
    "print(\"Red:\", sum(1 for l in locations if l[\"style\"] == STYLE_RED))\n",
    "print(\"Yellow:\", sum(1 for l in locations if l[\"style\"] == STYLE_YELLOW))"
   ]
  },
  {
   "cell_type": "code",
   "execution_count": 8,
   "metadata": {},
   "outputs": [
    {
     "name": "stdout",
     "output_type": "stream",
     "text": [
      "Different styles of dots, sanity check:\n",
      "Counter({'#icon-1899-FFD600': 876, '#icon-1899-A52714': 550, '#icon-1899-BDBDBD': 13, '#icon-1899-FFEA00': 1, '#icon-1899-880E4F': 1})\n"
     ]
    }
   ],
   "source": [
    "print(\"Different styles of dots, sanity check:\")\n",
    "print(Counter(l[\"style\"] for l in locations))"
   ]
  },
  {
   "cell_type": "code",
   "execution_count": 9,
   "metadata": {},
   "outputs": [
    {
     "name": "stdout",
     "output_type": "stream",
     "text": [
      "Yellow locations without any description:\n",
      "Alt-Karow-8-9 vor Str. 72 staw.\n",
      "Hohenstaufenstr.-60 hinter Eisenacher Str.\n",
      "Torweg-43 vor Hackbuschstr.\n",
      "Schwedenstr.- vor Osloer Str. staw.\n",
      "Granitzstr.- vor Retzbacher Weg\n",
      "Am Treptower Park-30 vor Herkomer Str.\n"
     ]
    }
   ],
   "source": [
    "# Some sanity check\n",
    "print(\"Yellow locations without any description:\")\n",
    "for l in locations:\n",
    "    d = l[\"description\"]\n",
    "    if l[\"style\"] != STYLE_YELLOW:\n",
    "        continue\n",
    "    if not d[\"norm\"]:\n",
    "        print(l[\"name\"])"
   ]
  },
  {
   "cell_type": "code",
   "execution_count": 10,
   "metadata": {},
   "outputs": [
    {
     "name": "stdout",
     "output_type": "stream",
     "text": [
      "Red locations with non-empty description:\n"
     ]
    }
   ],
   "source": [
    "# Some sanity check\n",
    "print(\"Red locations with non-empty description:\")\n",
    "for l in locations:\n",
    "    d = l[\"description\"]\n",
    "    if l[\"style\"] != STYLE_RED:\n",
    "        continue\n",
    "    if d[\"norm\"]:\n",
    "        print(l[\"name\"], \"DESCR\", d[\"norm\"])"
   ]
  },
  {
   "cell_type": "code",
   "execution_count": 11,
   "metadata": {},
   "outputs": [
    {
     "name": "stdout",
     "output_type": "stream",
     "text": [
      "Most common posters\n",
      "81: Anonym\n",
      "6: NOT_FOUND\n",
      "4: Yaroslav Rashevskyi\n",
      "3: Konrad Rempe\n",
      "3: Anne Berndt\n",
      "3: Claudia Drechsler\n",
      "3: Dorothea Heiß\n",
      "3: Johannes Pol\n",
      "3: Janine Pommerenke\n",
      "3: Gaby Fricke\n",
      "\n",
      "582 unique posters out of 876 in total\n",
      "\n",
      "<how_many_times_poster_was_spotted>: <posters_that_were_spotted_that_many_times>\n",
      "81: 1\n",
      "6: 1\n",
      "4: 1\n",
      "3: 17\n",
      "2: 172\n",
      "1: 390\n"
     ]
    }
   ],
   "source": [
    "print(\"Most common posters\")\n",
    "posters_by_stat = Counter(l[\"description\"].get(\"poster_by\", \"NOT_FOUND\") for l in locations if l[\"style\"] == STYLE_YELLOW)\n",
    "for poster_by, count in posters_by_stat.most_common(10):\n",
    "    print(f\"{count}: {poster_by}\")\n",
    "\n",
    "print()\n",
    "print(len(set(posters_by_stat)), \"unique posters out of\", sum(1 for l in locations if l[\"style\"] == STYLE_YELLOW), \"in total\")\n",
    "\n",
    "print()\n",
    "print(\"<how_many_times_poster_was_spotted>: <posters_that_were_spotted_that_many_times>\")\n",
    "for freq, posters_like_that in sorted(Counter(posters_by_stat.values()).items(), reverse=True):\n",
    "    print(f\"{freq}: {posters_like_that}\")\n"
   ]
  },
  {
   "cell_type": "code",
   "execution_count": 12,
   "metadata": {},
   "outputs": [
    {
     "name": "stdout",
     "output_type": "stream",
     "text": [
      "Top 10 spotters:\n",
      "167: Svenja\n",
      "114: Anke\n",
      "96: Tim\n",
      "76: angiie_pamela_photography\n",
      "69: Peter\n",
      "66: stricktdagegen\n",
      "43: sabineberlin.de\n",
      "34: Stefanie J.\n",
      "31: grigorynosyrev\n",
      "14: the_karambolage\n",
      "\n",
      "64 unique spotters spotted 876 posters\n",
      "\n",
      "Spotter statistics:\n",
      "<number_of_spotted_posters>: <spotters_that_spotted_that_many_posters>\n",
      "167: 1\n",
      "114: 1\n",
      "96: 1\n",
      "76: 1\n",
      "69: 1\n",
      "66: 1\n",
      "43: 1\n",
      "34: 1\n",
      "31: 1\n",
      "14: 1\n",
      "11: 2\n",
      "10: 1\n",
      "9: 1\n",
      "8: 3\n",
      "6: 4\n",
      "5: 3\n",
      "4: 3\n",
      "3: 3\n",
      "2: 7\n",
      "1: 27\n"
     ]
    }
   ],
   "source": [
    "n = 10\n",
    "print(f\"Top {n} spotters:\")\n",
    "spotted_by_stat = Counter(l[\"description\"].get(\"spotted_by\", \"NOT_FOUND\") for l in locations if l[\"style\"] == STYLE_YELLOW)\n",
    "for spotted_by, count in spotted_by_stat.most_common(n):\n",
    "    print(f\"{count}: {spotted_by}\")\n",
    "\n",
    "print()\n",
    "print(len(set(spotted_by_stat)), \"unique spotters spotted\", sum(spotted_by_stat.values()), \"posters\")\n",
    "\n",
    "print()\n",
    "print(\"Spotter statistics:\")\n",
    "print(\"<number_of_spotted_posters>: <spotters_that_spotted_that_many_posters>\")\n",
    "for freq, posters_like_that in sorted(Counter(spotted_by_stat.values()).items(), reverse=True):\n",
    "    print(f\"{freq}: {posters_like_that}\")"
   ]
  },
  {
   "cell_type": "code",
   "execution_count": 13,
   "metadata": {},
   "outputs": [],
   "source": [
    "from pathlib import Path\n",
    "\n",
    "import pandas as pd\n",
    "\n",
    "df = pd.DataFrame()\n",
    "df[\"name\"] = [l[\"name\"] for l in locations]\n",
    "df[\"description\"] = [l[\"description\"][\"norm\"] for l in locations]\n",
    "df[\"coordinates\"] = [\" \".join(l[\"coordinates\"]) for l in locations]\n",
    "df[\"style\"] = [l[\"style\"] for l in locations]\n",
    "df = df.sort_values(\"name\")\n",
    "df.head()\n",
    "\n",
    "# saving file to .csv format\n",
    "df.to_csv(Path(document_name).with_suffix(\".csv\"), index=False)\n",
    "\n"
   ]
  }
 ],
 "metadata": {
  "kernelspec": {
   "display_name": ".venv",
   "language": "python",
   "name": "python3"
  },
  "language_info": {
   "codemirror_mode": {
    "name": "ipython",
    "version": 3
   },
   "file_extension": ".py",
   "mimetype": "text/x-python",
   "name": "python",
   "nbconvert_exporter": "python",
   "pygments_lexer": "ipython3",
   "version": "3.12.4"
  }
 },
 "nbformat": 4,
 "nbformat_minor": 2
}
