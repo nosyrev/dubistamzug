{
 "cells": [
  {
   "cell_type": "markdown",
   "metadata": {},
   "source": [
    "# Simple statistics for the \"Du bist Am Zug\" project\n",
    "\n",
    "## Project links\n",
    "https://dubistamzug.net/en/\n",
    "\n",
    "https://www.instagram.com/dubistamzugberlin/\n",
    "\n",
    "https://www.facebook.com/dubistamzugberlin\n",
    "\n",
    "## Getting .kml map\n",
    "Current notebook is tailored to work with the 2024 version of it, some things could be different for the future versions\n",
    "\n",
    "Open [map](https://www.google.com/maps/d/u/0/viewer?mid=1jXqAMP9-YYyS75qjMMC6zf45UsSkVIs&ll=52.530777634910116%2C13.465575394245812&z=10),\n",
    "press on three vertical dots, choose \"Download KML\", choose \"Export to KML instead of KMZ\", press \"OK\""
   ]
  },
  {
   "cell_type": "code",
   "execution_count": 1,
   "metadata": {},
   "outputs": [],
   "source": [
    "import re\n",
    "import logging\n",
    "import xml.etree.ElementTree as ET\n",
    "\n",
    "from collections import Counter\n",
    "\n",
    "\n",
    "STYLE_YELLOW = \"#icon-1899-FFD600\"\n",
    "STYLE_RED = \"#icon-1899-A52714\"\n",
    "\n",
    "\n",
    "# Name of the downloaded file - if you have it under the different name just change the variable here.\n",
    "# Also we assume that downloaded file is in the same folder as a script itself\n",
    "file_name = \"Standorte Plakate DBAZ 2024  1. & 2. Woche.kml\"\n",
    "\n",
    "tree = ET.parse(file_name)\n",
    "root = tree.getroot()"
   ]
  },
  {
   "cell_type": "code",
   "execution_count": 2,
   "metadata": {},
   "outputs": [],
   "source": [
    "def norm_text(text: str) -> str:\n",
    "    \"\"\"Remove all html tags and fix some common typos in the source file\"\"\"\n",
    "    norm = re.sub(r\"<.*?>\", \" \", text).strip()\n",
    "    norm = re.sub(\"8Foto\", \"(Foto\", norm)\n",
    "    norm = re.sub(r\"\\s+\", \" \", norm)\n",
    "\n",
    "    # if there is no normal description and it is just coordinates just return empty line\n",
    "    if not re.sub(r\"[\\d\\.\\s]\", \"\", norm):\n",
    "        return \"\"\n",
    "\n",
    "    return norm.strip()\n",
    "\n",
    "def get_spotter(text: str) -> str:\n",
    "    \"\"\"\n",
    "    Try to extract spotter from the description\n",
    "    \n",
    "    Examples:\n",
    "        >>> get_spotter(\"Author Name (Foto SpotterName)   52.45022583 13.50795078\")\n",
    "        'SpotterName'\n",
    "        >>> get_spotter(\"Anonym (Bild SpotterName SpotterSurname)  52.55495479 13.39554122\")\n",
    "        'SpotterName SpotterSurname'\n",
    "        >>> get_spoter(\"Author Name, 1, 4 (Foto Spotter1) (Foto2 Spotter2)  52.49294, 13.3868\")\n",
    "        'Spotter1'\n",
    "    \"\"\"\n",
    "    if \"(\" in text and \")\" in text:\n",
    "        tt = text\n",
    "        tt = re.sub(r\"[Ff]oto?:?\", \"\", tt)\n",
    "        tt = re.sub(r\"[Bb]ild:?\", \"\", tt)\n",
    "        return tt.split(\"(\")[1].split(\")\")[0].strip()\n",
    "    elif \"(\" in text:\n",
    "        return text.split(\"(\")[1].split(\" \")[1].strip()\n",
    "    logging.warning(f\"No rules to parse correctly: {text}\")\n",
    "    return \"\"\n",
    "\n",
    "def parse_description(text: str) -> str:\n",
    "    \"\"\"Parse description into a dictionary with various helper fields\"\"\"\n",
    "    norm = norm_text(text)\n",
    "    res = {\"raw\": text, \"norm\": norm}\n",
    "    if not norm:\n",
    "        return res\n",
    "    res[\"poster_by\"] = norm.split(\"(\")[0].strip()  # any text before first '('\n",
    "    res[\"spotted_by\"] = get_spotter(norm)\n",
    "    return res\n",
    "\n",
    "\n",
    "def placemark_to_dict(placemark: ET) -> dict:\n",
    "    \"\"\"Convert <Placemark> structure into the dictionary\"\"\"\n",
    "    name = placemark.find('kml:name', namespace).text\n",
    "    styleUrl = placemark.find('kml:styleUrl', namespace).text\n",
    "    description = placemark.find('kml:description', namespace).text\n",
    "    description = parse_description(description)\n",
    "    coordinates = placemark.find('kml:Point/kml:coordinates', namespace).text.strip()\n",
    "    coordinates = coordinates.split(\",\")[:2]\n",
    "    return {\n",
    "        \"name\": name,\n",
    "        \"style\": styleUrl,\n",
    "        \"description\": description,\n",
    "        \"coordinates\": coordinates,\n",
    "    }\n",
    "\n",
    "\n",
    "# parse everything\n",
    "\n",
    "namespace = {'kml': 'http://www.opengis.net/kml/2.2'}\n",
    "\n",
    "unmarked = 0\n",
    "locations = []\n",
    "for placemark in root.findall('.//kml:Placemark', namespace):\n",
    "    locations.append(placemark_to_dict(placemark))\n"
   ]
  },
  {
   "cell_type": "code",
   "execution_count": 3,
   "metadata": {},
   "outputs": [],
   "source": [
    "# Ensure that all parsed yellow locations have non-empty poster_by and spotted_by fields\n",
    "for l in locations:\n",
    "    if l[\"style\"] != STYLE_YELLOW:\n",
    "        continue\n",
    "    d = l[\"description\"]\n",
    "    if not d[\"norm\"]:\n",
    "        continue\n",
    "    if not d[\"spotted_by\"] or not d[\"poster_by\"]:\n",
    "        logging.warning(f\"No poster/spotter for {l['name']}: {d}\")"
   ]
  },
  {
   "cell_type": "code",
   "execution_count": 4,
   "metadata": {},
   "outputs": [
    {
     "name": "stdout",
     "output_type": "stream",
     "text": [
      "- Otto-Suhr-Allee-18-20 Mittelinsel vor ggü. Marie-Elisabeth-Lüders-Str. staw DESCR: Jutta  Widrinsky  (Fotoangiie_pamela_photography)  52.51394238  13.31753913\n",
      "- Alt-Friedrichsfelde-23 hinter Robert-Uhrig-Str. DESCR: Ali,  12,  (Foto:  deinkarma666)  52.50999195  13.51268279\n",
      "- Gensinger Str.- vor Haus Nr. 103 (vor Seniorenzentrum) DESCR: Julia  Liebisch  (Fot  stricktdagegen)  52.51132243  13.53273538\n",
      "- Blumberger Damm-146 hinter Zinndorfer Str. DESCR: M.  Maschke  (FotoPeter)  52.54367173  13.57086907\n",
      "- Cecilienstr.-161 hinter Irmfriedstr. DESCR: Svenia  Andresen  (Fot  kadomaz_55)  52.52876293  13.57089755\n",
      "- Tempelhofer Weg-36-42 Mittelinsel vor ggü. Holzmindener Str. staw. DESCR: Abdul  &  Daniel,  Fläming-Grundschule,  6d  (Fotoangiie_pamela_photography)  52.45580292  13.42825031\n",
      "- Berliner Str.-13 A-B Mittelinsel vor Florastr.. Anlage B DESCR: Anika  Voß  (foto  splendid_andrea)  52.56774002  13.41208837\n",
      "- Dietzgenstr.-191 hinter ggü. Rosenthaler Weg stew. DESCR: Annika  Wissen  (foto  jo_wisz)  52.60250204  13.40212462\n",
      "- Emmentaler Str.-94 hinter Residenzstr. Rtg. Klemkestr. DESCR: Thomas  Lück  (BIld  Michaela  Piconi)  52.57077026  13.36193657\n",
      "- Treuenbrietzener Str.-28 hinter ggü. Wesendorfer Str. DESCR: Ines  Friedrich  (jo_wisz)  52.60111103  13.36423303\n",
      "- Waidmannsluster Damm- vor (Ausfahrt) Schollenhof DESCR: Dominik  Tolose  (Fotoftravelerty)  52.59999466  13.30171776\n",
      "- Heerstr.-168-184 vor Brandensteinweg staw. DESCR: Annelore-Leber-Grundschule,  Klasse  4d  (Fot0  andii.foto)  52.5107302  13.20915566\n",
      "- Malteserstr.-136-138 hinter Friedrichrodaer Str. DESCR: Slava  Schwab  (Fot  Svenja)  52.42046082  13.35893068\n",
      "- Manteuffelstr.-16 Mittelinsel vor Albrechtstr. DESCR: Klara  Kreuzmann  (Fotoangiie_pamela_photography)  52.4619751  13.37695313\n",
      "- Röblingstr.-162 vor Attilastr. DESCR: Mia  &  Sam,  6  (FotoTim)  52.44971848  13.36641407\n",
      "- Clayallee- hinter Argentinische Allee ( links v. U-Bhf) Halle B DESCR: Anonym  (Bild:  Carolina  Böhm)  52.45008875  13.26990087\n",
      "- Teltower Damm-21 hinter Kirchstr. DESCR: Valentina  Tropmann  (Bild:  Svenja)  52.43257523  13.2590847\n",
      "- Müggelheimer Str.-1 Mittelinsel hinter ggü. Alt-Köpenick DESCR: Miss  Glueniverse  (Bild:  Marina  Abramova)  52.44433116  13.57524591\n"
     ]
    }
   ],
   "source": [
    "# typos search, show all descriptions that don't have Foto or Bild in the description\n",
    "for l in locations:\n",
    "    if l[\"style\"] != STYLE_YELLOW:\n",
    "        continue\n",
    "    d = l[\"description\"]\n",
    "    if not (\"(Foto \" in d[\"norm\"] or \"(Bild \" in d[\"norm\"]):\n",
    "        print(\"-\", l[\"name\"], \"DESCR:\", re.sub(r\"\\s+\", \"  \", d[\"norm\"]))"
   ]
  },
  {
   "cell_type": "code",
   "execution_count": 5,
   "metadata": {},
   "outputs": [
    {
     "name": "stdout",
     "output_type": "stream",
     "text": [
      "Locations with the same name if any\n",
      "- Neuköllner Str.-303 hinter Alt Rudow 1 : 3\n",
      "- Oranienburger Str.-297 vor Eichborndamm : 3\n",
      "- Siegener Str.- vor Falkenseer Chaussee 241 : 3\n",
      "- Attilastr.-173 vor Alarichstr. 1 : 3\n",
      "- Johannisthaler Chaussee-263 Mittelinsel hinter Fritz-Erler-Allee Rtg. Treptow : 2\n",
      "- Seestr.-44a vor Müllerstr. : 2\n",
      "\n",
      "Locations with the same coord if any\n"
     ]
    }
   ],
   "source": [
    "print(\"Locations with the same name if any\")\n",
    "name_counter = Counter(l[\"name\"] for l in locations)\n",
    "for name, count in name_counter.most_common():\n",
    "    if count > 1:\n",
    "        print(\"-\", name, \":\", count)\n",
    "\n",
    "print()\n",
    "print(\"Locations with the same coord if any\")\n",
    "coord_counter = Counter(\" \".join(l[\"coordinates\"]) for l in locations)\n",
    "for coord, count in coord_counter.most_common():\n",
    "    if count > 1:\n",
    "        print(\"-\", coord, \":\", count)"
   ]
  },
  {
   "cell_type": "code",
   "execution_count": 6,
   "metadata": {},
   "outputs": [
    {
     "name": "stdout",
     "output_type": "stream",
     "text": [
      "Holubeva\n",
      "   Sterndamm-37 Mittelinsel vor Pietschkerstr. Halle A\n",
      "   Sofiia Holubeva (Foto Anke) (Foto 2 sabineberlin.de) 52.45022583 13.50795078\n"
     ]
    }
   ],
   "source": [
    "# If you are wanting to check if there are some posters you are intereted in\n",
    "# just replace names here. Could be any string. I have that only because\n",
    "# searching for a name or substring in google maps don't really work well for now (imho)\n",
    "POSTERS_TO_CHECK = [\n",
    "    \"Nosyrev\",\n",
    "    \"Kaltauskaite\",\n",
    "    \"Dvayaitca\",\n",
    "    \"Holubeva\",\n",
    "    \"Pasichnyk\",\n",
    "    \"Saliukhina\",\n",
    "]\n",
    "for l in locations:\n",
    "    d = l[\"description\"]\n",
    "    if not d[\"norm\"]:\n",
    "        continue\n",
    "    for p in POSTERS_TO_CHECK:\n",
    "        if p.lower() in d[\"poster_by\"].lower():\n",
    "            print(p)\n",
    "            print(\"  \", l[\"name\"])\n",
    "            print(\"  \", d[\"norm\"])"
   ]
  },
  {
   "cell_type": "markdown",
   "metadata": {},
   "source": [
    "# Statistics"
   ]
  },
  {
   "cell_type": "code",
   "execution_count": 7,
   "metadata": {},
   "outputs": [
    {
     "name": "stdout",
     "output_type": "stream",
     "text": [
      "Different dots on the map count\n",
      "Red: 0\n",
      "Yellow: 489\n"
     ]
    }
   ],
   "source": [
    "print(\"Different dots on the map count\")\n",
    "print(\"Red:\", sum(1 for l in locations if l[\"style\"] == STYLE_RED))\n",
    "print(\"Yellow:\", sum(1 for l in locations if l[\"style\"] == STYLE_YELLOW))"
   ]
  },
  {
   "cell_type": "code",
   "execution_count": 8,
   "metadata": {},
   "outputs": [
    {
     "name": "stdout",
     "output_type": "stream",
     "text": [
      "Different styles of dotes, sanity check:\n",
      "Counter({'#icon-1899-FFD600': 489, '#icon-1899-BDBDBD': 12})\n"
     ]
    }
   ],
   "source": [
    "print(\"Different styles of dotes, sanity check:\")\n",
    "print(Counter(l[\"style\"] for l in locations))"
   ]
  },
  {
   "cell_type": "code",
   "execution_count": 9,
   "metadata": {},
   "outputs": [
    {
     "name": "stdout",
     "output_type": "stream",
     "text": [
      "Yellow locations without any description:\n"
     ]
    }
   ],
   "source": [
    "# Some sanity check\n",
    "print(\"Yellow locations without any description:\")\n",
    "for l in locations:\n",
    "    d = l[\"description\"]\n",
    "    if l[\"style\"] != STYLE_YELLOW:\n",
    "        continue\n",
    "    if not d[\"norm\"]:\n",
    "        print(l[\"name\"])"
   ]
  },
  {
   "cell_type": "code",
   "execution_count": 10,
   "metadata": {},
   "outputs": [
    {
     "name": "stdout",
     "output_type": "stream",
     "text": [
      "Most common posters\n",
      "36: Anonym\n",
      "5: Die Rap Girls, 9-13 Jahre\n",
      "4: Lina, 8\n",
      "4: Gunda Leiss\n",
      "3: Blaxx443 Schneider/Werle\n",
      "3: Kåre, 5\n",
      "3: Denise Taureg\n",
      "2: Nastasya Tikhnovetskaya\n",
      "2: Maria Wirth\n",
      "2: Sibylle Meister\n",
      "\n",
      "364 unique posters out of 489 in total\n",
      "\n",
      "<how_many_times_poster_was_spotted>: <posters_that_were_spotted_that_many_times>\n",
      "36: 1\n",
      "5: 1\n",
      "4: 2\n",
      "3: 3\n",
      "2: 74\n",
      "1: 283\n"
     ]
    }
   ],
   "source": [
    "print(\"Most common posters\")\n",
    "posters_by_stat = Counter(l[\"description\"].get(\"poster_by\", \"NOT_FOUND\") for l in locations if l[\"style\"] == STYLE_YELLOW)\n",
    "for poster_by, count in posters_by_stat.most_common(10):\n",
    "    print(f\"{count}: {poster_by}\")\n",
    "\n",
    "print()\n",
    "print(len(set(posters_by_stat)), \"unique posters out of\", sum(1 for l in locations if l[\"style\"] == STYLE_YELLOW), \"in total\")\n",
    "\n",
    "print()\n",
    "print(\"<how_many_times_poster_was_spotted>: <posters_that_were_spotted_that_many_times>\")\n",
    "for freq, posters_like_that in sorted(Counter(posters_by_stat.values()).items(), reverse=True):\n",
    "    print(f\"{freq}: {posters_like_that}\")\n"
   ]
  },
  {
   "cell_type": "code",
   "execution_count": 11,
   "metadata": {},
   "outputs": [
    {
     "name": "stdout",
     "output_type": "stream",
     "text": [
      "Top 10 spotters:\n",
      "55: Peter\n",
      "53: Svenja\n",
      "48: Tim\n",
      "41: andii.\n",
      "36: angiie_pamela_photography\n",
      "27: Anke\n",
      "21: jo_wisz\n",
      "20: grigorynosyrev\n",
      "16: dbaz.kunstopfer\n",
      "15: Vicky\n",
      "\n",
      "86 unique spotters spotted 489 posters\n",
      "\n",
      "Spotter statistics:\n",
      "<number_of_spotted_posters>: <spotters_that_spotted_that_many_posters>\n",
      "55: 1\n",
      "53: 1\n",
      "48: 1\n",
      "41: 1\n",
      "36: 1\n",
      "27: 1\n",
      "21: 1\n",
      "20: 1\n",
      "16: 1\n",
      "15: 1\n",
      "10: 1\n",
      "9: 1\n",
      "7: 2\n",
      "6: 1\n",
      "4: 4\n",
      "3: 11\n",
      "2: 13\n",
      "1: 43\n"
     ]
    }
   ],
   "source": [
    "n = 10\n",
    "print(f\"Top {n} spotters:\")\n",
    "spotted_by_stat = Counter(l[\"description\"].get(\"spotted_by\", \"NOT_FOUND\") for l in locations if l[\"style\"] == STYLE_YELLOW)\n",
    "for spotted_by, count in spotted_by_stat.most_common(n):\n",
    "    print(f\"{count}: {spotted_by}\")\n",
    "\n",
    "print()\n",
    "print(len(set(spotted_by_stat)), \"unique spotters spotted\", sum(spotted_by_stat.values()), \"posters\")\n",
    "\n",
    "print()\n",
    "print(\"Spotter statistics:\")\n",
    "print(\"<number_of_spotted_posters>: <spotters_that_spotted_that_many_posters>\")\n",
    "for freq, posters_like_that in sorted(Counter(spotted_by_stat.values()).items(), reverse=True):\n",
    "    print(f\"{freq}: {posters_like_that}\")"
   ]
  },
  {
   "cell_type": "code",
   "execution_count": 12,
   "metadata": {},
   "outputs": [],
   "source": [
    "from pathlib import Path\n",
    "\n",
    "import pandas as pd\n",
    "\n",
    "df = pd.DataFrame()\n",
    "df[\"name\"] = [l[\"name\"] for l in locations]\n",
    "df[\"description\"] = [l[\"description\"][\"norm\"] for l in locations]\n",
    "df[\"coordinates\"] = [\" \".join(l[\"coordinates\"]) for l in locations]\n",
    "df[\"style\"] = [l[\"style\"] for l in locations]\n",
    "df = df.sort_values(\"name\")\n",
    "df.head()\n",
    "\n",
    "# saving file to .csv format\n",
    "df.to_csv(Path(file_name).with_suffix(\".csv\"), index=False)\n",
    "\n"
   ]
  }
 ],
 "metadata": {
  "kernelspec": {
   "display_name": ".venv",
   "language": "python",
   "name": "python3"
  },
  "language_info": {
   "codemirror_mode": {
    "name": "ipython",
    "version": 3
   },
   "file_extension": ".py",
   "mimetype": "text/x-python",
   "name": "python",
   "nbconvert_exporter": "python",
   "pygments_lexer": "ipython3",
   "version": "3.12.4"
  }
 },
 "nbformat": 4,
 "nbformat_minor": 2
}
