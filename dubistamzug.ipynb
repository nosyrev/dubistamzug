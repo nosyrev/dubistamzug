{
 "cells": [
  {
   "cell_type": "markdown",
   "metadata": {},
   "source": [
    "# Simple statistics for the \"Du bist Am Zug\" project\n",
    "\n",
    "## Project links\n",
    "https://dubistamzug.net/en/\n",
    "\n",
    "https://www.instagram.com/dubistamzugberlin/\n",
    "\n",
    "https://www.facebook.com/dubistamzugberlin\n",
    "\n",
    "## Getting .kml map\n",
    "Current notebook is tailored to work with the 2024 version of it, some things could be different for the future versions\n",
    "\n",
    "Open [map](https://www.google.com/maps/d/u/0/viewer?mid=1jXqAMP9-YYyS75qjMMC6zf45UsSkVIs&ll=52.530777634910116%2C13.465575394245812&z=10),\n",
    "press on three vertical dots, choose \"Download KML\", choose \"Export to KML instead of KMZ\", press \"OK\""
   ]
  },
  {
   "cell_type": "code",
   "execution_count": 1,
   "metadata": {},
   "outputs": [],
   "source": [
    "import re\n",
    "import logging\n",
    "import urllib.request\n",
    "import xml.etree.ElementTree as ET\n",
    "\n",
    "from collections import Counter\n",
    "\n",
    "\n",
    "STYLE_YELLOW = \"#icon-1899-FFD600\"\n",
    "STYLE_RED = \"#icon-1899-A52714\"\n",
    "\n",
    "\n",
    "# Google map id and url that is used to download it\n",
    "\n",
    "#mid = \"1jXqAMP9-YYyS75qjMMC6zf45UsSkVIs\"  # Week 1&2\n",
    "mid = \"1wRl3iviQosW3gyxi463XCI5FKFUd5h4\"  # Week 3\n",
    "download_url = f\"https://www.google.com/maps/d/kml?mid={mid}&forcekml=1\"\n",
    "\n",
    "# download the map into that file\n",
    "file_name = \"map.kml\"\n",
    "urllib.request.urlretrieve(download_url, 'map.kml')\n",
    "\n",
    "tree = ET.parse(file_name)\n",
    "root = tree.getroot()"
   ]
  },
  {
   "cell_type": "code",
   "execution_count": 2,
   "metadata": {},
   "outputs": [],
   "source": [
    "def norm_text(text: str) -> str:\n",
    "    \"\"\"Remove all html tags and fix some common typos in the source file\"\"\"\n",
    "    norm = re.sub(r\"<.*?>\", \" \", text).strip()\n",
    "    norm = re.sub(\"8Foto\", \"(Foto\", norm)\n",
    "    norm = re.sub(r\"\\s+\", \" \", norm)\n",
    "\n",
    "    # if there is no normal description and it is just coordinates just return empty line\n",
    "    if not re.sub(r\"[\\d\\.\\s]\", \"\", norm):\n",
    "        return \"\"\n",
    "\n",
    "    return norm.strip()\n",
    "\n",
    "def get_spotter(text: str) -> str:\n",
    "    \"\"\"\n",
    "    Try to extract spotter from the description\n",
    "    \n",
    "    Examples:\n",
    "        >>> get_spotter(\"Author Name (Foto SpotterName)   52.45022583 13.50795078\")\n",
    "        'SpotterName'\n",
    "        >>> get_spotter(\"Anonym (Bild SpotterName SpotterSurname)  52.55495479 13.39554122\")\n",
    "        'SpotterName SpotterSurname'\n",
    "        >>> get_spoter(\"Author Name, 1, 4 (Foto Spotter1) (Foto2 Spotter2)  52.49294, 13.3868\")\n",
    "        'Spotter1'\n",
    "    \"\"\"\n",
    "    if \"(\" in text and \")\" in text:\n",
    "        tt = text\n",
    "        tt = re.sub(r\"[Ff]oto?:?\", \"\", tt)\n",
    "        tt = re.sub(r\"[Bb]ild:?\", \"\", tt)\n",
    "        return tt.split(\"(\")[1].split(\")\")[0].strip()\n",
    "    elif \"(\" in text:\n",
    "        return text.split(\"(\")[1].split(\" \")[1].strip()\n",
    "    logging.warning(f\"No rules to parse correctly: {text}\")\n",
    "    return \"\"\n",
    "\n",
    "def parse_description(text: str) -> str:\n",
    "    \"\"\"Parse description into a dictionary with various helper fields\"\"\"\n",
    "    norm = norm_text(text)\n",
    "    res = {\"raw\": text, \"norm\": norm}\n",
    "    if not norm:\n",
    "        return res\n",
    "    res[\"poster_by\"] = norm.split(\"(\")[0].strip()  # any text before first '('\n",
    "    res[\"spotted_by\"] = get_spotter(norm)\n",
    "    return res\n",
    "\n",
    "\n",
    "def placemark_to_dict(placemark: ET) -> dict:\n",
    "    \"\"\"Convert <Placemark> structure into the dictionary\"\"\"\n",
    "    name = placemark.find('kml:name', namespace).text\n",
    "    styleUrl = placemark.find('kml:styleUrl', namespace).text\n",
    "    description = placemark.find('kml:description', namespace).text\n",
    "    description = parse_description(description)\n",
    "    coordinates = placemark.find('kml:Point/kml:coordinates', namespace).text.strip()\n",
    "    coordinates = coordinates.split(\",\")[:2]\n",
    "    return {\n",
    "        \"name\": name,\n",
    "        \"style\": styleUrl,\n",
    "        \"description\": description,\n",
    "        \"coordinates\": coordinates,\n",
    "    }\n",
    "\n",
    "\n",
    "# parse everything\n",
    "\n",
    "namespace = {'kml': 'http://www.opengis.net/kml/2.2'}\n",
    "\n",
    "document_name = root.find(\"kml:Document/kml:name\", namespace).text\n",
    "document_name = re.sub(r'[\\\\/:*?\"<>|]', '_', document_name)\n",
    "\n",
    "unmarked = 0\n",
    "locations = []\n",
    "for placemark in root.findall('.//kml:Placemark', namespace):\n",
    "    locations.append(placemark_to_dict(placemark))\n"
   ]
  },
  {
   "cell_type": "code",
   "execution_count": 3,
   "metadata": {},
   "outputs": [],
   "source": [
    "# Ensure that all parsed yellow locations have non-empty poster_by and spotted_by fields\n",
    "for l in locations:\n",
    "    if l[\"style\"] != STYLE_YELLOW:\n",
    "        continue\n",
    "    d = l[\"description\"]\n",
    "    if not d[\"norm\"]:\n",
    "        continue\n",
    "    if not d[\"spotted_by\"] or not d[\"poster_by\"]:\n",
    "        logging.warning(f\"No poster/spotter for {l['name']}: {d}\")"
   ]
  },
  {
   "cell_type": "code",
   "execution_count": 4,
   "metadata": {},
   "outputs": [
    {
     "name": "stdout",
     "output_type": "stream",
     "text": [
      "- Bachstr.-ggü. 1 Mittelinsel vor Altonaer Str. DESCR: Anonym  (Fot  ftravelerty)  52.51864624  13.33963776\n",
      "- Wartenberger Str.-ggü. 24 vor ggü. Gehrenseestr. Rtg. Rhinstr. DESCR: Ilia  Saraantsev  (Fotostricktdagegen)  52.55092966  13.50942449\n",
      "- Mehringdamm-21 vor Blücherstr. DESCR: Eva  Mauermann  (Fot  angiie_pamela_photography)  52.4957106  13.38982103\n",
      "- Marktstr.-2-3 vor Schreiberhauer Str. DESCR: Alexandra  Benkenstein  (FotoTim)  52.50303388  13.47421921\n",
      "- Allee der Kosmonauten-136 Mittelinsel hinter ggü. Poelchaustr. staw. DESCR: Emiliy  Püttner  (stricktdagegen)  52.53387612  13.55257366\n",
      "- Allee der Kosmonauten-27 Mittelinsel vor Rhinstr. stew. DESCR: Stefanie  Schairer  (stricktdagegen)  52.52593712  13.52055927\n",
      "- Britzer Damm-111 hinter Blaschkoallee DESCR: Ebrahim  Ehrari  (angiie_pamela_photography)  52.45304871  13.43853474\n",
      "- Karl-Marx-Str.-208 vor ggü. Kirchhofstr. staw. DESCR: Vivia  Wisperwind  (sabineberlin.de)  52.4716301  13.44112682\n",
      "- Rudower Str.-120 vor Johannistahler Chaussee staw. DESCR: Guda  Koster  (angiie_pamela_photography)  52.4344368  13.46849823\n",
      "- Dietzgenstr.-70 hinter Heinrich-Böll-Str. DESCR: Victor  Molinet  (simonandthepencils)  52.58768148  13.40185641\n",
      "- Neumannstr.- hinter Elsa-Brändström-Str. DESCR: Larissa  Niemeyer  (friends)  52.56048203  13.42234135\n",
      "- Eichborndamm- vor Taldorfer Weg DESCR: Julian  Bock  (for  Kseniia  Obraztsova)  52.58852768  13.32505417\n",
      "- Hohenstaufenstr.-60 hinter Eisenacher Str. DESCR: \n",
      "- Neuendorfer Str.-45 vor ggü. Neue Bergstr. DESCR: lIlona  Constance  Radke  (luisav.design)  52.55047983  13.21010367\n",
      "- Gallwitzallee- hinter Thaliaweg DESCR: Anonym  (  Foto  Svenja)  52.434397  13.346062\n",
      "- Gottlieb-Dunkel-Str.-28 vor Ullsteinstr. DESCR: Emilia,  11  (angiie_pamela_photography)  52.45261425  13.40774153\n",
      "- Oberlandstr.-29 vor Berliner Union-Filme DESCR: Carola  Fehring  (sabineberlin.de)  52.46420783  13.41014979\n",
      "- Potsdamer Str.-58 hinter Schöneberger Ufer Rtg. Schöneberg DESCR: Kaitlyn  Parker  (sabineberlin.de)  52.50538735  13.36761636\n",
      "- Köpenicker Landstr.-148 vor Eichbuschallee staw. DESCR: Belicita  Castelbarco  (sabineberlin.de)  52.47427244  13.48323707\n",
      "- Schwedenstr.- vor Osloer Str. staw. DESCR: \n",
      "- Wiesbadener Str.-31 vor Rüdesheimer Str. Rtg. Grunewald DESCR: Stephane  Aspe  (Fot  moonzoom_art)  52.47213594  13.31507443\n"
     ]
    }
   ],
   "source": [
    "# typos search, show all descriptions that don't have Foto or Bild in the description\n",
    "for l in locations:\n",
    "    if l[\"style\"] != STYLE_YELLOW:\n",
    "        continue\n",
    "    d = l[\"description\"]\n",
    "    if not (\"(Foto \" in d[\"norm\"] or \"(Bild \" in d[\"norm\"]):\n",
    "        print(\"-\", l[\"name\"], \"DESCR:\", re.sub(r\"\\s+\", \"  \", d[\"norm\"]))"
   ]
  },
  {
   "cell_type": "code",
   "execution_count": 5,
   "metadata": {},
   "outputs": [
    {
     "name": "stdout",
     "output_type": "stream",
     "text": [
      "Locations with the same name if any\n",
      "- Lyonel-Feininger-Str.-1 vor Nelly-Sachs-Str. : 3\n",
      "- Lindenstr.-116 hinter Brandesstr. : 3\n",
      "- Landsberger Allee- hinter Raoul-Wallenberg-Str. 74 : 3\n",
      "- Neuköllner Str.-306 vor ggü. Alt-Rudow : 3\n",
      "- Wollankstr.-22 hinter Schulzestr. : 3\n",
      "- Oraniendamm-28 vor Zehntwerderweg : 3\n",
      "- Roedernallee-119 hinter Am Nordgraben stew. : 3\n",
      "- Martin-Luther-Str.-105 vor Dominicusstr. 2 : 3\n",
      "- Neuendorfer Str.-98 vor Schönwalder Str. 1 : 3\n",
      "- Gottlieb-Dunkel-Str.-28 vor Ullsteinstr. : 3\n",
      "- Lankwitzer Str.- vor Großbeerenstr. 22 : 3\n",
      "- Berliner Allee-217 vor Rennbahnstr. : 3\n",
      "- Königstr.- vor Kronprinzessinnenweg 260 : 3\n",
      "- Alice-Salomon-Platz-3 vor Hellersdorfer Str. : 2\n",
      "- Lindauer Allee-ggü. 35 Mittelinsel hinter ggü. Aroser Allee : 2\n",
      "- Mariendorfer Damm ggü.-8 Mittelinsel vor Ullsteinstr. stew. : 2\n",
      "- Brandenburgische Str.-87 Mittelinsel vor Berliner Str. : 2\n",
      "- Kaiser-Friedrich-Str.-37A Mittelinsel vor Schillerstr. stew. : 2\n",
      "- Wintersteinstr.- hinter Otto-Suhr-Allee 108 : 2\n",
      "- Hellersdorfer Str.-80 Mittelinsel vor Cecilienstr. staw. : 2\n",
      "- Wollankstr.-1 hinter Wilhelm-Kuhr-Str. : 2\n",
      "- Danziger Str.-11 vor Lychener Str. : 2\n",
      "- Kleiststr.- hinter An der Urania 20-22 : 2\n",
      "- Potsdamer Str.-192 vor Grunewaldstr. : 2\n",
      "- Thorwaldsenstr.-29 Mittelinsel vor Horst-Kohl-Str. : 2\n",
      "- Rathenauplatz- Mittelinsel vor Halenseestr. 2 : 2\n",
      "\n",
      "Locations with the same coord if any\n"
     ]
    }
   ],
   "source": [
    "print(\"Locations with the same name if any\")\n",
    "name_counter = Counter(l[\"name\"] for l in locations)\n",
    "for name, count in name_counter.most_common():\n",
    "    if count > 1:\n",
    "        print(\"-\", name, \":\", count)\n",
    "\n",
    "print()\n",
    "print(\"Locations with the same coord if any\")\n",
    "coord_counter = Counter(\" \".join(l[\"coordinates\"]) for l in locations)\n",
    "for coord, count in coord_counter.most_common():\n",
    "    if count > 1:\n",
    "        print(\"-\", coord, \":\", count)"
   ]
  },
  {
   "cell_type": "code",
   "execution_count": 6,
   "metadata": {},
   "outputs": [
    {
     "name": "stdout",
     "output_type": "stream",
     "text": [
      "Pasichnyk\n",
      "   Berliner Allee-210 hinter Bernkasteler Str. staw.\n",
      "   Anastasiia Pasichnyk (Foto Stefanie J.) 52.55745316 13.46674633\n",
      "Saliukhina\n",
      "   Landsberger Allee-68 A-D Mittelinsel vor Petersburger Str. staw. Halle B\n",
      "   Valentina Saliukhina (Foto Tim) 52.52611179 13.44693543\n",
      "Pasichnyk\n",
      "   Lindenstr.-116 hinter Brandesstr.\n",
      "   Anastasiia Pasichnyk (Foto sabineberlin.de) 52.49893951 13.39549828\n",
      "Nosyrev\n",
      "   Landsberger Allee- hinter Raoul-Wallenberg-Str. 74\n",
      "   Grigory Nosyrev (Foto stricktdagegen) 52.54486465 13.56416512\n",
      "Kaltauskaite\n",
      "   Ringstr.- hinter Kadettenweg\n",
      "   Liuba Kaltauskaite (Foto Svenja) 52.43798828 13.29550648\n",
      "Dvayaitca\n",
      "   Am Bhf. Grunewald- vor Auerbacher Str. 2\n",
      "   Paska Dvayaitca (Foto Svenja) 52.4873694 13.26339587\n"
     ]
    }
   ],
   "source": [
    "# If you are wanting to check if there are some posters you are intereted in\n",
    "# just replace names here. Could be any string. I have that only because\n",
    "# searching for a name or substring in google maps don't really work well for now (imho)\n",
    "POSTERS_TO_CHECK = [\n",
    "    \"Nosyrev\",\n",
    "    \"Kaltauskaite\",\n",
    "    \"Dvayaitca\",\n",
    "    \"Holubeva\",\n",
    "    \"Pasichnyk\",\n",
    "    \"Saliukhina\",\n",
    "]\n",
    "for l in locations:\n",
    "    d = l[\"description\"]\n",
    "    if not d[\"norm\"]:\n",
    "        continue\n",
    "    for p in POSTERS_TO_CHECK:\n",
    "        if p.lower() in d[\"poster_by\"].lower():\n",
    "            print(p)\n",
    "            print(\"  \", l[\"name\"])\n",
    "            print(\"  \", d[\"norm\"])"
   ]
  },
  {
   "cell_type": "markdown",
   "metadata": {},
   "source": [
    "# Statistics"
   ]
  },
  {
   "cell_type": "code",
   "execution_count": 7,
   "metadata": {},
   "outputs": [
    {
     "name": "stdout",
     "output_type": "stream",
     "text": [
      "Different dots on the map count\n",
      "Red: 375\n",
      "Yellow: 617\n"
     ]
    }
   ],
   "source": [
    "print(\"Different dots on the map count\")\n",
    "print(\"Red:\", sum(1 for l in locations if l[\"style\"] == STYLE_RED))\n",
    "print(\"Yellow:\", sum(1 for l in locations if l[\"style\"] == STYLE_YELLOW))"
   ]
  },
  {
   "cell_type": "code",
   "execution_count": 8,
   "metadata": {},
   "outputs": [
    {
     "name": "stdout",
     "output_type": "stream",
     "text": [
      "Different styles of dots, sanity check:\n",
      "Counter({'#icon-1899-FFD600': 617, '#icon-1899-A52714': 375, '#icon-1899-BDBDBD': 15, '#icon-1899-FFEA00': 2})\n"
     ]
    }
   ],
   "source": [
    "print(\"Different styles of dots, sanity check:\")\n",
    "print(Counter(l[\"style\"] for l in locations))"
   ]
  },
  {
   "cell_type": "code",
   "execution_count": 9,
   "metadata": {},
   "outputs": [
    {
     "name": "stdout",
     "output_type": "stream",
     "text": [
      "Yellow locations without any description:\n",
      "Hohenstaufenstr.-60 hinter Eisenacher Str.\n",
      "Schwedenstr.- vor Osloer Str. staw.\n"
     ]
    }
   ],
   "source": [
    "# Some sanity check\n",
    "print(\"Yellow locations without any description:\")\n",
    "for l in locations:\n",
    "    d = l[\"description\"]\n",
    "    if l[\"style\"] != STYLE_YELLOW:\n",
    "        continue\n",
    "    if not d[\"norm\"]:\n",
    "        print(l[\"name\"])"
   ]
  },
  {
   "cell_type": "code",
   "execution_count": 10,
   "metadata": {},
   "outputs": [
    {
     "name": "stdout",
     "output_type": "stream",
     "text": [
      "Most common posters\n",
      "60: Anonym\n",
      "3: Johannes Pol\n",
      "3: Janine Pommerenke\n",
      "3: Stephane Aspe\n",
      "3: Lina, 8\n",
      "3: Larissa Niemeyer\n",
      "2: Britta Avalon Kagels\n",
      "2: Konrad Rempe\n",
      "2: Miriam Schimka\n",
      "2: Nina-Maria Büttner\n",
      "\n",
      "463 unique posters out of 617 in total\n",
      "\n",
      "<how_many_times_poster_was_spotted>: <posters_that_were_spotted_that_many_times>\n",
      "60: 1\n",
      "3: 5\n",
      "2: 85\n",
      "1: 372\n"
     ]
    }
   ],
   "source": [
    "print(\"Most common posters\")\n",
    "posters_by_stat = Counter(l[\"description\"].get(\"poster_by\", \"NOT_FOUND\") for l in locations if l[\"style\"] == STYLE_YELLOW)\n",
    "for poster_by, count in posters_by_stat.most_common(10):\n",
    "    print(f\"{count}: {poster_by}\")\n",
    "\n",
    "print()\n",
    "print(len(set(posters_by_stat)), \"unique posters out of\", sum(1 for l in locations if l[\"style\"] == STYLE_YELLOW), \"in total\")\n",
    "\n",
    "print()\n",
    "print(\"<how_many_times_poster_was_spotted>: <posters_that_were_spotted_that_many_times>\")\n",
    "for freq, posters_like_that in sorted(Counter(posters_by_stat.values()).items(), reverse=True):\n",
    "    print(f\"{freq}: {posters_like_that}\")\n"
   ]
  },
  {
   "cell_type": "code",
   "execution_count": 11,
   "metadata": {},
   "outputs": [
    {
     "name": "stdout",
     "output_type": "stream",
     "text": [
      "Top 10 spotters:\n",
      "112: Svenja\n",
      "97: Tim\n",
      "82: Anke\n",
      "57: angiie_pamela_photography\n",
      "49: stricktdagegen\n",
      "36: sabineberlin.de\n",
      "23: Stefanie J.\n",
      "19: grigorynosyrev\n",
      "13: instateechen\n",
      "11: ftravelerty\n",
      "\n",
      "55 unique spotters spotted 617 posters\n",
      "\n",
      "Spotter statistics:\n",
      "<number_of_spotted_posters>: <spotters_that_spotted_that_many_posters>\n",
      "112: 1\n",
      "97: 1\n",
      "82: 1\n",
      "57: 1\n",
      "49: 1\n",
      "36: 1\n",
      "23: 1\n",
      "19: 1\n",
      "13: 1\n",
      "11: 1\n",
      "9: 1\n",
      "8: 2\n",
      "7: 1\n",
      "6: 3\n",
      "5: 2\n",
      "4: 4\n",
      "3: 1\n",
      "2: 8\n",
      "1: 23\n"
     ]
    }
   ],
   "source": [
    "n = 10\n",
    "print(f\"Top {n} spotters:\")\n",
    "spotted_by_stat = Counter(l[\"description\"].get(\"spotted_by\", \"NOT_FOUND\") for l in locations if l[\"style\"] == STYLE_YELLOW)\n",
    "for spotted_by, count in spotted_by_stat.most_common(n):\n",
    "    print(f\"{count}: {spotted_by}\")\n",
    "\n",
    "print()\n",
    "print(len(set(spotted_by_stat)), \"unique spotters spotted\", sum(spotted_by_stat.values()), \"posters\")\n",
    "\n",
    "print()\n",
    "print(\"Spotter statistics:\")\n",
    "print(\"<number_of_spotted_posters>: <spotters_that_spotted_that_many_posters>\")\n",
    "for freq, posters_like_that in sorted(Counter(spotted_by_stat.values()).items(), reverse=True):\n",
    "    print(f\"{freq}: {posters_like_that}\")"
   ]
  },
  {
   "cell_type": "code",
   "execution_count": 12,
   "metadata": {},
   "outputs": [],
   "source": [
    "from pathlib import Path\n",
    "\n",
    "import pandas as pd\n",
    "\n",
    "df = pd.DataFrame()\n",
    "df[\"name\"] = [l[\"name\"] for l in locations]\n",
    "df[\"description\"] = [l[\"description\"][\"norm\"] for l in locations]\n",
    "df[\"coordinates\"] = [\" \".join(l[\"coordinates\"]) for l in locations]\n",
    "df[\"style\"] = [l[\"style\"] for l in locations]\n",
    "df = df.sort_values(\"name\")\n",
    "df.head()\n",
    "\n",
    "# saving file to .csv format\n",
    "df.to_csv(Path(document_name).with_suffix(\".csv\"), index=False)\n",
    "\n"
   ]
  }
 ],
 "metadata": {
  "kernelspec": {
   "display_name": ".venv",
   "language": "python",
   "name": "python3"
  },
  "language_info": {
   "codemirror_mode": {
    "name": "ipython",
    "version": 3
   },
   "file_extension": ".py",
   "mimetype": "text/x-python",
   "name": "python",
   "nbconvert_exporter": "python",
   "pygments_lexer": "ipython3",
   "version": "3.12.4"
  }
 },
 "nbformat": 4,
 "nbformat_minor": 2
}
